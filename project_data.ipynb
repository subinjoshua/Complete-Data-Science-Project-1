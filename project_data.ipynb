{
 "cells": [
  {
   "cell_type": "markdown",
   "metadata": {},
   "source": [
    "##### The objective of this project:\n",
    "- Simple Version:\n",
    " * It is to analyse the data, make intelligent models that are capable of predicting certain feature(s) and then pitting these best selected model(s) against actual data to see how it works\n",
    "- Long Version:\n",
    " * Part 1 is all about Data Exploration. Here we try and gain information of the data and clean the data that we are using,these questions are answered:\n",
    "   1. What is the data about?\n",
    "   2. What columns are related and inwhat manner?\n",
    "   3. Questions about the data(domain related questions)[These are the sub-headings]\n",
    "   4. How can I visualize these data to understand/present it better?\n",
    " * Part 2 is me trying to making a model that can predict the product from the customer's complaint narrative"
   ]
  },
  {
   "cell_type": "code",
   "execution_count": 2,
   "metadata": {},
   "outputs": [],
   "source": [
    "import pandas as pd\n",
    "import matplotlib.pyplot as plt\n",
    "import seaborn as sns\n",
    "%matplotlib inline"
   ]
  },
  {
   "cell_type": "code",
   "execution_count": 3,
   "metadata": {},
   "outputs": [],
   "source": [
    "df_test = pd.read_csv(\"Edureka_Consumer_Complaints_test.csv\")\n",
    "df_train = pd.read_csv(\"Edureka_Consumer_Complaints_train.csv\")\n",
    "data_test = df_test.copy()\n",
    "data_train = df_train.copy()"
   ]
  },
  {
   "cell_type": "code",
   "execution_count": 4,
   "metadata": {},
   "outputs": [
    {
     "data": {
      "text/html": [
       "<div>\n",
       "<style scoped>\n",
       "    .dataframe tbody tr th:only-of-type {\n",
       "        vertical-align: middle;\n",
       "    }\n",
       "\n",
       "    .dataframe tbody tr th {\n",
       "        vertical-align: top;\n",
       "    }\n",
       "\n",
       "    .dataframe thead th {\n",
       "        text-align: right;\n",
       "    }\n",
       "</style>\n",
       "<table border=\"1\" class=\"dataframe\">\n",
       "  <thead>\n",
       "    <tr style=\"text-align: right;\">\n",
       "      <th></th>\n",
       "      <th>Date received</th>\n",
       "      <th>Product</th>\n",
       "      <th>Sub-product</th>\n",
       "      <th>Issue</th>\n",
       "      <th>Sub-issue</th>\n",
       "      <th>Consumer complaint narrative</th>\n",
       "      <th>Company public response</th>\n",
       "      <th>Company</th>\n",
       "      <th>State</th>\n",
       "      <th>ZIP code</th>\n",
       "      <th>Tags</th>\n",
       "      <th>Consumer consent provided?</th>\n",
       "      <th>Submitted via</th>\n",
       "      <th>Date sent to company</th>\n",
       "      <th>Company response to consumer</th>\n",
       "      <th>Timely response?</th>\n",
       "      <th>Complaint ID</th>\n",
       "    </tr>\n",
       "  </thead>\n",
       "  <tbody>\n",
       "    <tr>\n",
       "      <th>0</th>\n",
       "      <td>2015-01-17</td>\n",
       "      <td>Credit card</td>\n",
       "      <td>NaN</td>\n",
       "      <td>Customer service / Customer relations</td>\n",
       "      <td>NaN</td>\n",
       "      <td>NaN</td>\n",
       "      <td>NaN</td>\n",
       "      <td>Citibank</td>\n",
       "      <td>TX</td>\n",
       "      <td>75241</td>\n",
       "      <td>NaN</td>\n",
       "      <td>NaN</td>\n",
       "      <td>Web</td>\n",
       "      <td>2015-01-17</td>\n",
       "      <td>Closed with monetary relief</td>\n",
       "      <td>Yes</td>\n",
       "      <td>1198133</td>\n",
       "    </tr>\n",
       "  </tbody>\n",
       "</table>\n",
       "</div>"
      ],
      "text/plain": [
       "  Date received      Product Sub-product  \\\n",
       "0    2015-01-17  Credit card         NaN   \n",
       "\n",
       "                                   Issue Sub-issue  \\\n",
       "0  Customer service / Customer relations       NaN   \n",
       "\n",
       "  Consumer complaint narrative Company public response   Company State  \\\n",
       "0                          NaN                     NaN  Citibank    TX   \n",
       "\n",
       "  ZIP code Tags Consumer consent provided? Submitted via Date sent to company  \\\n",
       "0    75241  NaN                        NaN           Web           2015-01-17   \n",
       "\n",
       "  Company response to consumer Timely response?  Complaint ID  \n",
       "0  Closed with monetary relief              Yes       1198133  "
      ]
     },
     "execution_count": 4,
     "metadata": {},
     "output_type": "execute_result"
    }
   ],
   "source": [
    "df_test.head(1)"
   ]
  },
  {
   "cell_type": "markdown",
   "metadata": {},
   "source": [
    "# PART 1-DATA EXPLORATION"
   ]
  },
  {
   "cell_type": "markdown",
   "metadata": {},
   "source": [
    "## Analyze the missing values in the columns"
   ]
  },
  {
   "cell_type": "code",
   "execution_count": 5,
   "metadata": {},
   "outputs": [
    {
     "name": "stdout",
     "output_type": "stream",
     "text": [
      "The Missing Values Columns of Train Data :\n"
     ]
    },
    {
     "data": {
      "text/html": [
       "<div>\n",
       "<style scoped>\n",
       "    .dataframe tbody tr th:only-of-type {\n",
       "        vertical-align: middle;\n",
       "    }\n",
       "\n",
       "    .dataframe tbody tr th {\n",
       "        vertical-align: top;\n",
       "    }\n",
       "\n",
       "    .dataframe thead th {\n",
       "        text-align: right;\n",
       "    }\n",
       "</style>\n",
       "<table border=\"1\" class=\"dataframe\">\n",
       "  <thead>\n",
       "    <tr style=\"text-align: right;\">\n",
       "      <th></th>\n",
       "      <th>Sub-product</th>\n",
       "      <th>Sub-issue</th>\n",
       "      <th>Consumer complaint narrative</th>\n",
       "      <th>Company public response</th>\n",
       "      <th>State</th>\n",
       "      <th>ZIP code</th>\n",
       "      <th>Tags</th>\n",
       "      <th>Consumer consent provided?</th>\n",
       "    </tr>\n",
       "  </thead>\n",
       "  <tbody>\n",
       "    <tr>\n",
       "      <th>Number of missing Elements</th>\n",
       "      <td>103786</td>\n",
       "      <td>219374</td>\n",
       "      <td>302630</td>\n",
       "      <td>290879</td>\n",
       "      <td>2903</td>\n",
       "      <td>2911</td>\n",
       "      <td>308584</td>\n",
       "      <td>257230</td>\n",
       "    </tr>\n",
       "  </tbody>\n",
       "</table>\n",
       "</div>"
      ],
      "text/plain": [
       "                            Sub-product  Sub-issue  \\\n",
       "Number of missing Elements       103786     219374   \n",
       "\n",
       "                            Consumer complaint narrative  \\\n",
       "Number of missing Elements                        302630   \n",
       "\n",
       "                            Company public response  State  ZIP code    Tags  \\\n",
       "Number of missing Elements                   290879   2903      2911  308584   \n",
       "\n",
       "                            Consumer consent provided?  \n",
       "Number of missing Elements                      257230  "
      ]
     },
     "metadata": {},
     "output_type": "display_data"
    },
    {
     "name": "stdout",
     "output_type": "stream",
     "text": [
      "\n",
      "\n",
      "\n",
      "The Missing Values Columns of Test Data :\n"
     ]
    },
    {
     "data": {
      "text/html": [
       "<div>\n",
       "<style scoped>\n",
       "    .dataframe tbody tr th:only-of-type {\n",
       "        vertical-align: middle;\n",
       "    }\n",
       "\n",
       "    .dataframe tbody tr th {\n",
       "        vertical-align: top;\n",
       "    }\n",
       "\n",
       "    .dataframe thead th {\n",
       "        text-align: right;\n",
       "    }\n",
       "</style>\n",
       "<table border=\"1\" class=\"dataframe\">\n",
       "  <thead>\n",
       "    <tr style=\"text-align: right;\">\n",
       "      <th></th>\n",
       "      <th>Sub-product</th>\n",
       "      <th>Sub-issue</th>\n",
       "      <th>Consumer complaint narrative</th>\n",
       "      <th>Company public response</th>\n",
       "      <th>State</th>\n",
       "      <th>ZIP code</th>\n",
       "      <th>Tags</th>\n",
       "      <th>Consumer consent provided?</th>\n",
       "    </tr>\n",
       "  </thead>\n",
       "  <tbody>\n",
       "    <tr>\n",
       "      <th>Number of missing Elements</th>\n",
       "      <td>34683</td>\n",
       "      <td>73250</td>\n",
       "      <td>100692</td>\n",
       "      <td>97146</td>\n",
       "      <td>936</td>\n",
       "      <td>937</td>\n",
       "      <td>102629</td>\n",
       "      <td>85699</td>\n",
       "    </tr>\n",
       "  </tbody>\n",
       "</table>\n",
       "</div>"
      ],
      "text/plain": [
       "                            Sub-product  Sub-issue  \\\n",
       "Number of missing Elements        34683      73250   \n",
       "\n",
       "                            Consumer complaint narrative  \\\n",
       "Number of missing Elements                        100692   \n",
       "\n",
       "                            Company public response  State  ZIP code    Tags  \\\n",
       "Number of missing Elements                    97146    936       937  102629   \n",
       "\n",
       "                            Consumer consent provided?  \n",
       "Number of missing Elements                       85699  "
      ]
     },
     "metadata": {},
     "output_type": "display_data"
    }
   ],
   "source": [
    "# Finding columns that has missing values and only displying those columns\n",
    "\n",
    "def missing_values(dataframe):\n",
    "    missing_value = pd.DataFrame((dataframe.isnull().sum())).T\n",
    "    missing_value.index = [\"Number of missing Elements\"]\n",
    "    for i in missing_value.columns:\n",
    "        if int(missing_value[i].values) == 0 :\n",
    "            del missing_value[i]\n",
    "    return missing_value\n",
    "    \n",
    "test_missing_df = missing_values(data_test) \n",
    "train_missing_df = missing_values(data_train)\n",
    "print(\"The Missing Values Columns of Train Data :\")\n",
    "display(train_missing_df)\n",
    "print(\"\\n\\n\")\n",
    "print(\"The Missing Values Columns of Test Data :\")\n",
    "display(test_missing_df)\n"
   ]
  },
  {
   "cell_type": "markdown",
   "metadata": {},
   "source": [
    "###### Looks like the missing values columns in both the datasets are the same "
   ]
  },
  {
   "cell_type": "markdown",
   "metadata": {},
   "source": [
    "## What is the number of unique values and most frequently occurring categories in the Categorical Columns?"
   ]
  },
  {
   "cell_type": "code",
   "execution_count": 6,
   "metadata": {},
   "outputs": [],
   "source": [
    "#Lets set aside just the most required and best suited categorical features of this dataset\n",
    "df = data_train.drop([\"Date sent to company\",\"Complaint ID\",\"Date received\"],axis = 1)"
   ]
  },
  {
   "cell_type": "code",
   "execution_count": 7,
   "metadata": {},
   "outputs": [],
   "source": [
    "# Should convert Consumer complaint narrative to lowercase for better Analysis\n",
    "df[\"Consumer complaint narrative\"] = df[\"Consumer complaint narrative\"].str.lower()"
   ]
  },
  {
   "cell_type": "code",
   "execution_count": 8,
   "metadata": {},
   "outputs": [],
   "source": [
    "big_dict = dict()"
   ]
  },
  {
   "cell_type": "code",
   "execution_count": 9,
   "metadata": {},
   "outputs": [],
   "source": [
    "# lets find the number of unique values and most occuring things/subjects in each of the selected columns\n",
    "big_dict = dict()\n",
    "for i in df.columns:\n",
    "    number_unique_values = len(df[i].value_counts())\n",
    "    highest_occuring_values = df[i].value_counts().index[0]\n",
    "    big_dict.setdefault(i, [number_unique_values,highest_occuring_values])"
   ]
  },
  {
   "cell_type": "code",
   "execution_count": 10,
   "metadata": {},
   "outputs": [],
   "source": [
    "df_1 = pd.DataFrame(big_dict)\n",
    "df_1 = df_1.T\n",
    "df_1.columns = [\"Unique Values\",\"Frequently Occuring\"]"
   ]
  },
  {
   "cell_type": "code",
   "execution_count": 11,
   "metadata": {},
   "outputs": [
    {
     "data": {
      "text/html": [
       "<div>\n",
       "<style scoped>\n",
       "    .dataframe tbody tr th:only-of-type {\n",
       "        vertical-align: middle;\n",
       "    }\n",
       "\n",
       "    .dataframe tbody tr th {\n",
       "        vertical-align: top;\n",
       "    }\n",
       "\n",
       "    .dataframe thead th {\n",
       "        text-align: right;\n",
       "    }\n",
       "</style>\n",
       "<table border=\"1\" class=\"dataframe\">\n",
       "  <thead>\n",
       "    <tr style=\"text-align: right;\">\n",
       "      <th></th>\n",
       "      <th>Unique Values</th>\n",
       "      <th>Frequently Occuring</th>\n",
       "    </tr>\n",
       "  </thead>\n",
       "  <tbody>\n",
       "    <tr>\n",
       "      <th>Product</th>\n",
       "      <td>12</td>\n",
       "      <td>Mortgage</td>\n",
       "    </tr>\n",
       "    <tr>\n",
       "      <th>Sub-product</th>\n",
       "      <td>47</td>\n",
       "      <td>Other mortgage</td>\n",
       "    </tr>\n",
       "    <tr>\n",
       "      <th>Issue</th>\n",
       "      <td>95</td>\n",
       "      <td>Loan modification,collection,foreclosure</td>\n",
       "    </tr>\n",
       "    <tr>\n",
       "      <th>Sub-issue</th>\n",
       "      <td>67</td>\n",
       "      <td>Account status</td>\n",
       "    </tr>\n",
       "    <tr>\n",
       "      <th>Consumer complaint narrative</th>\n",
       "      <td>55530</td>\n",
       "      <td>this company continues to report on my credit ...</td>\n",
       "    </tr>\n",
       "    <tr>\n",
       "      <th>Company public response</th>\n",
       "      <td>10</td>\n",
       "      <td>Company chooses not to provide a public response</td>\n",
       "    </tr>\n",
       "    <tr>\n",
       "      <th>Company</th>\n",
       "      <td>3064</td>\n",
       "      <td>Bank of America</td>\n",
       "    </tr>\n",
       "    <tr>\n",
       "      <th>State</th>\n",
       "      <td>62</td>\n",
       "      <td>CA</td>\n",
       "    </tr>\n",
       "    <tr>\n",
       "      <th>ZIP code</th>\n",
       "      <td>24181</td>\n",
       "      <td>300XX</td>\n",
       "    </tr>\n",
       "    <tr>\n",
       "      <th>Tags</th>\n",
       "      <td>3</td>\n",
       "      <td>Older American</td>\n",
       "    </tr>\n",
       "    <tr>\n",
       "      <th>Consumer consent provided?</th>\n",
       "      <td>4</td>\n",
       "      <td>Consent provided</td>\n",
       "    </tr>\n",
       "    <tr>\n",
       "      <th>Submitted via</th>\n",
       "      <td>6</td>\n",
       "      <td>Web</td>\n",
       "    </tr>\n",
       "    <tr>\n",
       "      <th>Company response to consumer</th>\n",
       "      <td>6</td>\n",
       "      <td>Closed with explanation</td>\n",
       "    </tr>\n",
       "    <tr>\n",
       "      <th>Timely response?</th>\n",
       "      <td>2</td>\n",
       "      <td>Yes</td>\n",
       "    </tr>\n",
       "    <tr>\n",
       "      <th>Consumer disputed?</th>\n",
       "      <td>2</td>\n",
       "      <td>No</td>\n",
       "    </tr>\n",
       "  </tbody>\n",
       "</table>\n",
       "</div>"
      ],
      "text/plain": [
       "                             Unique Values  \\\n",
       "Product                                 12   \n",
       "Sub-product                             47   \n",
       "Issue                                   95   \n",
       "Sub-issue                               67   \n",
       "Consumer complaint narrative         55530   \n",
       "Company public response                 10   \n",
       "Company                               3064   \n",
       "State                                   62   \n",
       "ZIP code                             24181   \n",
       "Tags                                     3   \n",
       "Consumer consent provided?               4   \n",
       "Submitted via                            6   \n",
       "Company response to consumer             6   \n",
       "Timely response?                         2   \n",
       "Consumer disputed?                       2   \n",
       "\n",
       "                                                            Frequently Occuring  \n",
       "Product                                                                Mortgage  \n",
       "Sub-product                                                      Other mortgage  \n",
       "Issue                                  Loan modification,collection,foreclosure  \n",
       "Sub-issue                                                        Account status  \n",
       "Consumer complaint narrative  this company continues to report on my credit ...  \n",
       "Company public response        Company chooses not to provide a public response  \n",
       "Company                                                         Bank of America  \n",
       "State                                                                        CA  \n",
       "ZIP code                                                                  300XX  \n",
       "Tags                                                             Older American  \n",
       "Consumer consent provided?                                     Consent provided  \n",
       "Submitted via                                                               Web  \n",
       "Company response to consumer                            Closed with explanation  \n",
       "Timely response?                                                            Yes  \n",
       "Consumer disputed?                                                           No  "
      ]
     },
     "execution_count": 11,
     "metadata": {},
     "output_type": "execute_result"
    }
   ],
   "source": [
    "df_1"
   ]
  },
  {
   "cell_type": "markdown",
   "metadata": {},
   "source": [
    "###### Interesting things this process has shown, there are 12 products"
   ]
  },
  {
   "cell_type": "markdown",
   "metadata": {},
   "source": [
    "##  Identify the top issues raised by consumers in this dataset"
   ]
  },
  {
   "cell_type": "code",
   "execution_count": 12,
   "metadata": {},
   "outputs": [],
   "source": [
    "# we will continue to use the df dataset here\n",
    "big_issues = df.Issue.value_counts().head(10)\n",
    "big_issues_df = pd.DataFrame(big_issues)"
   ]
  },
  {
   "cell_type": "code",
   "execution_count": 13,
   "metadata": {},
   "outputs": [
    {
     "data": {
      "text/html": [
       "<div>\n",
       "<style scoped>\n",
       "    .dataframe tbody tr th:only-of-type {\n",
       "        vertical-align: middle;\n",
       "    }\n",
       "\n",
       "    .dataframe tbody tr th {\n",
       "        vertical-align: top;\n",
       "    }\n",
       "\n",
       "    .dataframe thead th {\n",
       "        text-align: right;\n",
       "    }\n",
       "</style>\n",
       "<table border=\"1\" class=\"dataframe\">\n",
       "  <thead>\n",
       "    <tr style=\"text-align: right;\">\n",
       "      <th></th>\n",
       "      <th>Issue</th>\n",
       "    </tr>\n",
       "  </thead>\n",
       "  <tbody>\n",
       "    <tr>\n",
       "      <th>Loan modification,collection,foreclosure</th>\n",
       "      <td>60185</td>\n",
       "    </tr>\n",
       "    <tr>\n",
       "      <th>Incorrect information on credit report</th>\n",
       "      <td>43825</td>\n",
       "    </tr>\n",
       "    <tr>\n",
       "      <th>Loan servicing, payments, escrow account</th>\n",
       "      <td>38456</td>\n",
       "    </tr>\n",
       "    <tr>\n",
       "      <th>Cont'd attempts collect debt not owed</th>\n",
       "      <td>27266</td>\n",
       "    </tr>\n",
       "    <tr>\n",
       "      <th>Account opening, closing, or management</th>\n",
       "      <td>17557</td>\n",
       "    </tr>\n",
       "    <tr>\n",
       "      <th>Disclosure verification of debt</th>\n",
       "      <td>12283</td>\n",
       "    </tr>\n",
       "    <tr>\n",
       "      <th>Communication tactics</th>\n",
       "      <td>11457</td>\n",
       "    </tr>\n",
       "    <tr>\n",
       "      <th>Deposits and withdrawals</th>\n",
       "      <td>11028</td>\n",
       "    </tr>\n",
       "    <tr>\n",
       "      <th>Application, originator, mortgage broker</th>\n",
       "      <td>8441</td>\n",
       "    </tr>\n",
       "    <tr>\n",
       "      <th>Billing disputes</th>\n",
       "      <td>7244</td>\n",
       "    </tr>\n",
       "  </tbody>\n",
       "</table>\n",
       "</div>"
      ],
      "text/plain": [
       "                                          Issue\n",
       "Loan modification,collection,foreclosure  60185\n",
       "Incorrect information on credit report    43825\n",
       "Loan servicing, payments, escrow account  38456\n",
       "Cont'd attempts collect debt not owed     27266\n",
       "Account opening, closing, or management   17557\n",
       "Disclosure verification of debt           12283\n",
       "Communication tactics                     11457\n",
       "Deposits and withdrawals                  11028\n",
       "Application, originator, mortgage broker   8441\n",
       "Billing disputes                           7244"
      ]
     },
     "execution_count": 13,
     "metadata": {},
     "output_type": "execute_result"
    }
   ],
   "source": [
    "big_issues_df"
   ]
  },
  {
   "cell_type": "code",
   "execution_count": 14,
   "metadata": {},
   "outputs": [
    {
     "data": {
      "image/png": "[encoded data removed]",
      "text/plain": [
       "<Figure size 720x720 with 1 Axes>"
      ]
     },
     "metadata": {
      "needs_background": "light"
     },
     "output_type": "display_data"
    }
   ],
   "source": [
    "#Visualize this Data\n",
    "plt.figure(figsize=(10, 10))\n",
    "ax = plt.axes()\n",
    "ax.set_facecolor('#abb7b7')\n",
    "plt.bar(big_issues_df.index,big_issues_df.Issue, color = \"#6c7a89\")\n",
    "plt.title('Issues raised by Customers\\n', fontsize=15, fontstyle='italic')\n",
    "plt.xlabel('\\nIssues', fontsize=13)\n",
    "plt.ylabel('Frequency\\n', fontsize=13)\n",
    "plt.xticks(rotation=90)\n",
    "plt.legend([\"Issues\"])\n",
    "plt.show()"
   ]
  },
  {
   "cell_type": "markdown",
   "metadata": {},
   "source": [
    "###### Here are the top 10 issues faced by customers as drawn from the Train Dataset.  Seems like loan modification/collection is what people face the most issues with!"
   ]
  },
  {
   "cell_type": "markdown",
   "metadata": {},
   "source": [
    "## Products which receive a higher number of complaints"
   ]
  },
  {
   "cell_type": "code",
   "execution_count": 15,
   "metadata": {},
   "outputs": [
    {
     "data": {
      "text/html": [
       "<div>\n",
       "<style scoped>\n",
       "    .dataframe tbody tr th:only-of-type {\n",
       "        vertical-align: middle;\n",
       "    }\n",
       "\n",
       "    .dataframe tbody tr th {\n",
       "        vertical-align: top;\n",
       "    }\n",
       "\n",
       "    .dataframe thead th {\n",
       "        text-align: right;\n",
       "    }\n",
       "</style>\n",
       "<table border=\"1\" class=\"dataframe\">\n",
       "  <thead>\n",
       "    <tr style=\"text-align: right;\">\n",
       "      <th></th>\n",
       "      <th>Product</th>\n",
       "      <th>Number of Complaints</th>\n",
       "    </tr>\n",
       "  </thead>\n",
       "  <tbody>\n",
       "    <tr>\n",
       "      <th>0</th>\n",
       "      <td>Mortgage</td>\n",
       "      <td>117066</td>\n",
       "    </tr>\n",
       "    <tr>\n",
       "      <th>1</th>\n",
       "      <td>Debt collection</td>\n",
       "      <td>65033</td>\n",
       "    </tr>\n",
       "    <tr>\n",
       "      <th>2</th>\n",
       "      <td>Credit reporting</td>\n",
       "      <td>60672</td>\n",
       "    </tr>\n",
       "    <tr>\n",
       "      <th>3</th>\n",
       "      <td>Credit card</td>\n",
       "      <td>43114</td>\n",
       "    </tr>\n",
       "    <tr>\n",
       "      <th>4</th>\n",
       "      <td>Bank account or service</td>\n",
       "      <td>40667</td>\n",
       "    </tr>\n",
       "  </tbody>\n",
       "</table>\n",
       "</div>"
      ],
      "text/plain": [
       "                   Product  Number of Complaints\n",
       "0                 Mortgage                117066\n",
       "1          Debt collection                 65033\n",
       "2         Credit reporting                 60672\n",
       "3              Credit card                 43114\n",
       "4  Bank account or service                 40667"
      ]
     },
     "execution_count": 15,
     "metadata": {},
     "output_type": "execute_result"
    }
   ],
   "source": [
    "#again we use the df data from 1.2\n",
    "highest_problem_products = df.Product.value_counts().head().index\n",
    "highest_problem_products_count = df.Product.value_counts().head()\n",
    "problem_data = zip(highest_problem_products,highest_problem_products_count)\n",
    "problem_df = pd.DataFrame(problem_data,columns = [\"Product\",\"Number of Complaints\"])\n",
    "problem_df"
   ]
  },
  {
   "cell_type": "code",
   "execution_count": 16,
   "metadata": {},
   "outputs": [
    {
     "data": {
      "image/png": "[encoded data removed]",
      "text/plain": [
       "<Figure size 720x720 with 1 Axes>"
      ]
     },
     "metadata": {
      "needs_background": "light"
     },
     "output_type": "display_data"
    }
   ],
   "source": [
    "#Visualize this data\n",
    "plt.figure(figsize=(10, 10))\n",
    "ax = plt.axes()\n",
    "ax.set_facecolor('#c5eff7')\n",
    "plt.bar(problem_df.Product,problem_df[\"Number of Complaints\"],color = \"#013243\")\n",
    "plt.title('Top 5 High Complaint yielding Products\\n', fontsize=15, fontstyle='italic')\n",
    "plt.xlabel('Products', fontsize=15)\n",
    "plt.ylabel('Number of Complaints\\n', fontsize=15)\n",
    "for i, v in enumerate(problem_df[\"Number of Complaints\"]):\n",
    "    plt.text(i-.25,v/problem_df[\"Number of Complaints\"][i]+9000,problem_df[\"Number of Complaints\"][i],fontsize=17,color = \"#e4f1fe\")\n",
    "plt.xticks(rotation=90)\n",
    "plt.legend([\"Issues\"])\n",
    "plt.show()"
   ]
  },
  {
   "cell_type": "markdown",
   "metadata": {},
   "source": [
    "##### Mortgage seems to be the most product with complaints, with a count of 117066"
   ]
  },
  {
   "cell_type": "markdown",
   "metadata": {},
   "source": [
    "## Do all the companies receive the same number of complaints?"
   ]
  },
  {
   "cell_type": "code",
   "execution_count": 17,
   "metadata": {},
   "outputs": [
    {
     "data": {
      "text/html": [
       "<div>\n",
       "<style scoped>\n",
       "    .dataframe tbody tr th:only-of-type {\n",
       "        vertical-align: middle;\n",
       "    }\n",
       "\n",
       "    .dataframe tbody tr th {\n",
       "        vertical-align: top;\n",
       "    }\n",
       "\n",
       "    .dataframe thead th {\n",
       "        text-align: right;\n",
       "    }\n",
       "</style>\n",
       "<table border=\"1\" class=\"dataframe\">\n",
       "  <thead>\n",
       "    <tr style=\"text-align: right;\">\n",
       "      <th></th>\n",
       "      <th>Company</th>\n",
       "      <th>Number of Complaints</th>\n",
       "    </tr>\n",
       "  </thead>\n",
       "  <tbody>\n",
       "    <tr>\n",
       "      <th>0</th>\n",
       "      <td>Bank of America</td>\n",
       "      <td>34903</td>\n",
       "    </tr>\n",
       "    <tr>\n",
       "      <th>1</th>\n",
       "      <td>Wells Fargo &amp; Company</td>\n",
       "      <td>26490</td>\n",
       "    </tr>\n",
       "    <tr>\n",
       "      <th>2</th>\n",
       "      <td>JPMorgan Chase &amp; Co.</td>\n",
       "      <td>21677</td>\n",
       "    </tr>\n",
       "    <tr>\n",
       "      <th>3</th>\n",
       "      <td>Equifax</td>\n",
       "      <td>21489</td>\n",
       "    </tr>\n",
       "    <tr>\n",
       "      <th>4</th>\n",
       "      <td>Experian</td>\n",
       "      <td>20075</td>\n",
       "    </tr>\n",
       "    <tr>\n",
       "      <th>5</th>\n",
       "      <td>TransUnion Intermediate Holdings, Inc.</td>\n",
       "      <td>16881</td>\n",
       "    </tr>\n",
       "    <tr>\n",
       "      <th>6</th>\n",
       "      <td>Citibank</td>\n",
       "      <td>16792</td>\n",
       "    </tr>\n",
       "    <tr>\n",
       "      <th>7</th>\n",
       "      <td>Ocwen</td>\n",
       "      <td>13110</td>\n",
       "    </tr>\n",
       "    <tr>\n",
       "      <th>8</th>\n",
       "      <td>Capital One</td>\n",
       "      <td>10082</td>\n",
       "    </tr>\n",
       "    <tr>\n",
       "      <th>9</th>\n",
       "      <td>Nationstar Mortgage</td>\n",
       "      <td>8414</td>\n",
       "    </tr>\n",
       "    <tr>\n",
       "      <th>10</th>\n",
       "      <td>Synchrony Financial</td>\n",
       "      <td>6182</td>\n",
       "    </tr>\n",
       "    <tr>\n",
       "      <th>11</th>\n",
       "      <td>U.S. Bancorp</td>\n",
       "      <td>6140</td>\n",
       "    </tr>\n",
       "    <tr>\n",
       "      <th>12</th>\n",
       "      <td>Ditech Financial LLC</td>\n",
       "      <td>5704</td>\n",
       "    </tr>\n",
       "    <tr>\n",
       "      <th>13</th>\n",
       "      <td>Navient Solutions, Inc.</td>\n",
       "      <td>5591</td>\n",
       "    </tr>\n",
       "    <tr>\n",
       "      <th>14</th>\n",
       "      <td>PNC Bank N.A.</td>\n",
       "      <td>4396</td>\n",
       "    </tr>\n",
       "    <tr>\n",
       "      <th>15</th>\n",
       "      <td>Amex</td>\n",
       "      <td>3904</td>\n",
       "    </tr>\n",
       "    <tr>\n",
       "      <th>16</th>\n",
       "      <td>Encore Capital Group</td>\n",
       "      <td>3897</td>\n",
       "    </tr>\n",
       "    <tr>\n",
       "      <th>17</th>\n",
       "      <td>HSBC North America Holdings Inc.</td>\n",
       "      <td>3842</td>\n",
       "    </tr>\n",
       "    <tr>\n",
       "      <th>18</th>\n",
       "      <td>Discover</td>\n",
       "      <td>3114</td>\n",
       "    </tr>\n",
       "    <tr>\n",
       "      <th>19</th>\n",
       "      <td>SunTrust Banks, Inc.</td>\n",
       "      <td>3089</td>\n",
       "    </tr>\n",
       "  </tbody>\n",
       "</table>\n",
       "</div>"
      ],
      "text/plain": [
       "                                   Company  Number of Complaints\n",
       "0                          Bank of America                 34903\n",
       "1                    Wells Fargo & Company                 26490\n",
       "2                     JPMorgan Chase & Co.                 21677\n",
       "3                                  Equifax                 21489\n",
       "4                                 Experian                 20075\n",
       "5   TransUnion Intermediate Holdings, Inc.                 16881\n",
       "6                                 Citibank                 16792\n",
       "7                                    Ocwen                 13110\n",
       "8                              Capital One                 10082\n",
       "9                      Nationstar Mortgage                  8414\n",
       "10                     Synchrony Financial                  6182\n",
       "11                            U.S. Bancorp                  6140\n",
       "12                    Ditech Financial LLC                  5704\n",
       "13                 Navient Solutions, Inc.                  5591\n",
       "14                           PNC Bank N.A.                  4396\n",
       "15                                    Amex                  3904\n",
       "16                    Encore Capital Group                  3897\n",
       "17        HSBC North America Holdings Inc.                  3842\n",
       "18                                Discover                  3114\n",
       "19                    SunTrust Banks, Inc.                  3089"
      ]
     },
     "execution_count": 17,
     "metadata": {},
     "output_type": "execute_result"
    }
   ],
   "source": [
    "# again using df\n",
    "# lets check the count of companies\n",
    "companies_count = df.Company.value_counts().head(20)\n",
    "df_companies = pd.DataFrame(companies_count)\n",
    "df_companies.reset_index(inplace = True)\n",
    "df_companies.columns = [\"Company\",\"Number of Complaints\"]\n",
    "df_companies"
   ]
  },
  {
   "cell_type": "markdown",
   "metadata": {},
   "source": [
    "##### Looks like Bank of America receives the most complaint, lets check the % though"
   ]
  },
  {
   "cell_type": "code",
   "execution_count": 18,
   "metadata": {},
   "outputs": [
    {
     "name": "stdout",
     "output_type": "stream",
     "text": [
      "The percentage of problems from Bank of America: 9.72743234580976\n"
     ]
    }
   ],
   "source": [
    "ba_perc = (df_companies[\"Number of Complaints\"][0]/len(df.Company))*100\n",
    "print(\"The percentage of problems from Bank of America: {}\".format(ba_perc))"
   ]
  },
  {
   "cell_type": "code",
   "execution_count": 19,
   "metadata": {},
   "outputs": [
    {
     "data": {
      "image/png": "[encoded data removed]",
      "text/plain": [
       "<Figure size 720x720 with 1 Axes>"
      ]
     },
     "metadata": {
      "needs_background": "light"
     },
     "output_type": "display_data"
    }
   ],
   "source": [
    "#Visualize this data\n",
    "plt.figure(figsize=(10, 10))\n",
    "ax = plt.axes()\n",
    "ax.set_facecolor('#e5e5dc')\n",
    "plt.barh(df_companies.Company,df_companies[\"Number of Complaints\"],color='#26495c')\n",
    "plt.title('Complaints faced by companies\\n', fontsize=15, fontstyle='italic')\n",
    "plt.xlabel('Complaints', fontsize=15)\n",
    "plt.ylabel('Company\\n', fontsize=15)\n",
    "plt.xticks(rotation=90)\n",
    "plt.legend([\"Complaints\"])\n",
    "plt.show()"
   ]
  },
  {
   "cell_type": "markdown",
   "metadata": {},
   "source": [
    "##### This concludes that companies hardly receive equal number of complaints"
   ]
  },
  {
   "cell_type": "markdown",
   "metadata": {},
   "source": [
    "## How are the complaints submitted ?"
   ]
  },
  {
   "cell_type": "code",
   "execution_count": 20,
   "metadata": {},
   "outputs": [
    {
     "data": {
      "text/html": [
       "<div>\n",
       "<style scoped>\n",
       "    .dataframe tbody tr th:only-of-type {\n",
       "        vertical-align: middle;\n",
       "    }\n",
       "\n",
       "    .dataframe tbody tr th {\n",
       "        vertical-align: top;\n",
       "    }\n",
       "\n",
       "    .dataframe thead th {\n",
       "        text-align: right;\n",
       "    }\n",
       "</style>\n",
       "<table border=\"1\" class=\"dataframe\">\n",
       "  <thead>\n",
       "    <tr style=\"text-align: right;\">\n",
       "      <th></th>\n",
       "      <th>Medium</th>\n",
       "      <th>Counts</th>\n",
       "    </tr>\n",
       "  </thead>\n",
       "  <tbody>\n",
       "    <tr>\n",
       "      <th>0</th>\n",
       "      <td>Web</td>\n",
       "      <td>235462</td>\n",
       "    </tr>\n",
       "    <tr>\n",
       "      <th>1</th>\n",
       "      <td>Referral</td>\n",
       "      <td>68450</td>\n",
       "    </tr>\n",
       "    <tr>\n",
       "      <th>2</th>\n",
       "      <td>Phone</td>\n",
       "      <td>25802</td>\n",
       "    </tr>\n",
       "    <tr>\n",
       "      <th>3</th>\n",
       "      <td>Postal mail</td>\n",
       "      <td>23644</td>\n",
       "    </tr>\n",
       "    <tr>\n",
       "      <th>4</th>\n",
       "      <td>Fax</td>\n",
       "      <td>5264</td>\n",
       "    </tr>\n",
       "    <tr>\n",
       "      <th>5</th>\n",
       "      <td>Email</td>\n",
       "      <td>188</td>\n",
       "    </tr>\n",
       "  </tbody>\n",
       "</table>\n",
       "</div>"
      ],
      "text/plain": [
       "        Medium  Counts\n",
       "0          Web  235462\n",
       "1     Referral   68450\n",
       "2        Phone   25802\n",
       "3  Postal mail   23644\n",
       "4          Fax    5264\n",
       "5        Email     188"
      ]
     },
     "execution_count": 20,
     "metadata": {},
     "output_type": "execute_result"
    }
   ],
   "source": [
    "#again using df\n",
    "# lets check the medium usedto submit the issues\n",
    "medium_name = df[\"Submitted via\"].value_counts().index\n",
    "medium_count = df[\"Submitted via\"].value_counts().values\n",
    "df_medium = pd.DataFrame([medium_name,medium_count]).T\n",
    "df_medium.columns = [\"Medium\",\"Counts\"]\n",
    "df_medium"
   ]
  },
  {
   "cell_type": "code",
   "execution_count": 21,
   "metadata": {},
   "outputs": [
    {
     "data": {
      "image/png": "[encoded data removed]",
      "text/plain": [
       "<Figure size 720x720 with 1 Axes>"
      ]
     },
     "metadata": {},
     "output_type": "display_data"
    }
   ],
   "source": [
    "# Lets Visualize this data \n",
    "plt.figure(figsize=(10,10))\n",
    "plt.title('Medium used by Customers for registering complaints\\n', fontsize=15, fontstyle='italic')\n",
    "col_list= [\"#446cb3\",\"#019875\",\"#fad859\",\"#e47833\",\"#6c7a89\",\"#d64541\"]\n",
    "explode = (0.03,0.03,0.05,0,0.35,0.5)\n",
    "plt.pie(medium_count,colors = col_list,explode = explode,autopct='%.1f%%',labels = medium_name)\n",
    "plt.legend()\n",
    "plt.show()"
   ]
  },
  {
   "cell_type": "markdown",
   "metadata": {},
   "source": [
    "##### This shows Web is the most used medium and email being the least used one"
   ]
  },
  {
   "cell_type": "markdown",
   "metadata": {},
   "source": [
    "## Geographical distribution of the complaints"
   ]
  },
  {
   "cell_type": "code",
   "execution_count": 22,
   "metadata": {},
   "outputs": [
    {
     "data": {
      "text/html": [
       "<div>\n",
       "<style scoped>\n",
       "    .dataframe tbody tr th:only-of-type {\n",
       "        vertical-align: middle;\n",
       "    }\n",
       "\n",
       "    .dataframe tbody tr th {\n",
       "        vertical-align: top;\n",
       "    }\n",
       "\n",
       "    .dataframe thead th {\n",
       "        text-align: right;\n",
       "    }\n",
       "</style>\n",
       "<table border=\"1\" class=\"dataframe\">\n",
       "  <thead>\n",
       "    <tr style=\"text-align: right;\">\n",
       "      <th></th>\n",
       "      <th>State Name</th>\n",
       "      <th>Number of Complaints</th>\n",
       "    </tr>\n",
       "  </thead>\n",
       "  <tbody>\n",
       "    <tr>\n",
       "      <th>0</th>\n",
       "      <td>CA</td>\n",
       "      <td>52368</td>\n",
       "    </tr>\n",
       "    <tr>\n",
       "      <th>1</th>\n",
       "      <td>FL</td>\n",
       "      <td>34567</td>\n",
       "    </tr>\n",
       "    <tr>\n",
       "      <th>2</th>\n",
       "      <td>TX</td>\n",
       "      <td>26683</td>\n",
       "    </tr>\n",
       "    <tr>\n",
       "      <th>3</th>\n",
       "      <td>NY</td>\n",
       "      <td>24554</td>\n",
       "    </tr>\n",
       "    <tr>\n",
       "      <th>4</th>\n",
       "      <td>GA</td>\n",
       "      <td>15886</td>\n",
       "    </tr>\n",
       "    <tr>\n",
       "      <th>...</th>\n",
       "      <td>...</td>\n",
       "      <td>...</td>\n",
       "    </tr>\n",
       "    <tr>\n",
       "      <th>57</th>\n",
       "      <td>MH</td>\n",
       "      <td>19</td>\n",
       "    </tr>\n",
       "    <tr>\n",
       "      <th>58</th>\n",
       "      <td>MP</td>\n",
       "      <td>13</td>\n",
       "    </tr>\n",
       "    <tr>\n",
       "      <th>59</th>\n",
       "      <td>AS</td>\n",
       "      <td>9</td>\n",
       "    </tr>\n",
       "    <tr>\n",
       "      <th>60</th>\n",
       "      <td>PW</td>\n",
       "      <td>8</td>\n",
       "    </tr>\n",
       "    <tr>\n",
       "      <th>61</th>\n",
       "      <td>AA</td>\n",
       "      <td>7</td>\n",
       "    </tr>\n",
       "  </tbody>\n",
       "</table>\n",
       "<p>62 rows × 2 columns</p>\n",
       "</div>"
      ],
      "text/plain": [
       "   State Name Number of Complaints\n",
       "0          CA                52368\n",
       "1          FL                34567\n",
       "2          TX                26683\n",
       "3          NY                24554\n",
       "4          GA                15886\n",
       "..        ...                  ...\n",
       "57         MH                   19\n",
       "58         MP                   13\n",
       "59         AS                    9\n",
       "60         PW                    8\n",
       "61         AA                    7\n",
       "\n",
       "[62 rows x 2 columns]"
      ]
     },
     "execution_count": 22,
     "metadata": {},
     "output_type": "execute_result"
    }
   ],
   "source": [
    "#again using df\n",
    "state_name = df.State.value_counts().index\n",
    "state_count = df.State.value_counts().values\n",
    "df_state = pd.DataFrame([state_name,state_count]).T\n",
    "df_state.columns = [\"State Name\",\"Number of Complaints\"]\n",
    "df_state"
   ]
  },
  {
   "cell_type": "code",
   "execution_count": 23,
   "metadata": {},
   "outputs": [
    {
     "data": {
      "image/png": "[encoded data removed]",
      "text/plain": [
       "<Figure size 1440x2160 with 1 Axes>"
      ]
     },
     "metadata": {
      "needs_background": "light"
     },
     "output_type": "display_data"
    }
   ],
   "source": [
    "#Visualize this data\n",
    "plt.figure(figsize=(20, 30))\n",
    "ax = plt.axes()\n",
    "ax.set_facecolor('#e5e5dc')\n",
    "plt.barh(df_state[\"State Name\"],df_state[\"Number of Complaints\"],color='#26495c')\n",
    "plt.title('Complaint count by States\\n', fontsize=15, fontstyle='italic')\n",
    "plt.xlabel('Frequency', fontsize=15)\n",
    "plt.ylabel('State\\n', fontsize=15)\n",
    "plt.xticks(rotation=90)\n",
    "plt.legend([\"Number of Complaints\"])\n",
    "plt.show()"
   ]
  },
  {
   "cell_type": "markdown",
   "metadata": {},
   "source": [
    "##### This Figure shows the most complaints are from California, then Florida."
   ]
  },
  {
   "cell_type": "markdown",
   "metadata": {},
   "source": [
    "## Do the complaints rise in any specific month or day of the week?"
   ]
  },
  {
   "cell_type": "code",
   "execution_count": 24,
   "metadata": {},
   "outputs": [],
   "source": [
    "#using the data_train\n",
    "date = data_train[\"Date received\"]\n",
    "date = pd.to_datetime(date)\n",
    "df_date = date.to_frame()\n",
    "df_date[\"Month Number\"] = date.dt.month\n",
    "df_date[\"Month Name\"] = date.dt.month_name()\n",
    "df_date[\"Day Number\"] = date.dt.day\n",
    "df_date[\"Day Name\"] = date.dt.day_name()\n",
    "df_date[\"Year\"] = date.dt.year"
   ]
  },
  {
   "cell_type": "code",
   "execution_count": 25,
   "metadata": {},
   "outputs": [
    {
     "data": {
      "text/html": [
       "<div>\n",
       "<style scoped>\n",
       "    .dataframe tbody tr th:only-of-type {\n",
       "        vertical-align: middle;\n",
       "    }\n",
       "\n",
       "    .dataframe tbody tr th {\n",
       "        vertical-align: top;\n",
       "    }\n",
       "\n",
       "    .dataframe thead th {\n",
       "        text-align: right;\n",
       "    }\n",
       "</style>\n",
       "<table border=\"1\" class=\"dataframe\">\n",
       "  <thead>\n",
       "    <tr style=\"text-align: right;\">\n",
       "      <th></th>\n",
       "      <th>Date received</th>\n",
       "      <th>Month Number</th>\n",
       "      <th>Month Name</th>\n",
       "      <th>Day Number</th>\n",
       "      <th>Day Name</th>\n",
       "      <th>Year</th>\n",
       "    </tr>\n",
       "  </thead>\n",
       "  <tbody>\n",
       "    <tr>\n",
       "      <th>0</th>\n",
       "      <td>2015-10-14</td>\n",
       "      <td>10</td>\n",
       "      <td>October</td>\n",
       "      <td>14</td>\n",
       "      <td>Wednesday</td>\n",
       "      <td>2015</td>\n",
       "    </tr>\n",
       "    <tr>\n",
       "      <th>1</th>\n",
       "      <td>2015-04-26</td>\n",
       "      <td>4</td>\n",
       "      <td>April</td>\n",
       "      <td>26</td>\n",
       "      <td>Sunday</td>\n",
       "      <td>2015</td>\n",
       "    </tr>\n",
       "    <tr>\n",
       "      <th>2</th>\n",
       "      <td>2013-12-20</td>\n",
       "      <td>12</td>\n",
       "      <td>December</td>\n",
       "      <td>20</td>\n",
       "      <td>Friday</td>\n",
       "      <td>2013</td>\n",
       "    </tr>\n",
       "    <tr>\n",
       "      <th>3</th>\n",
       "      <td>2016-03-03</td>\n",
       "      <td>3</td>\n",
       "      <td>March</td>\n",
       "      <td>3</td>\n",
       "      <td>Thursday</td>\n",
       "      <td>2016</td>\n",
       "    </tr>\n",
       "    <tr>\n",
       "      <th>4</th>\n",
       "      <td>2015-01-30</td>\n",
       "      <td>1</td>\n",
       "      <td>January</td>\n",
       "      <td>30</td>\n",
       "      <td>Friday</td>\n",
       "      <td>2015</td>\n",
       "    </tr>\n",
       "    <tr>\n",
       "      <th>...</th>\n",
       "      <td>...</td>\n",
       "      <td>...</td>\n",
       "      <td>...</td>\n",
       "      <td>...</td>\n",
       "      <td>...</td>\n",
       "      <td>...</td>\n",
       "    </tr>\n",
       "    <tr>\n",
       "      <th>358805</th>\n",
       "      <td>2014-04-14</td>\n",
       "      <td>4</td>\n",
       "      <td>April</td>\n",
       "      <td>14</td>\n",
       "      <td>Monday</td>\n",
       "      <td>2014</td>\n",
       "    </tr>\n",
       "    <tr>\n",
       "      <th>358806</th>\n",
       "      <td>2013-03-14</td>\n",
       "      <td>3</td>\n",
       "      <td>March</td>\n",
       "      <td>14</td>\n",
       "      <td>Thursday</td>\n",
       "      <td>2013</td>\n",
       "    </tr>\n",
       "    <tr>\n",
       "      <th>358807</th>\n",
       "      <td>2013-02-01</td>\n",
       "      <td>2</td>\n",
       "      <td>February</td>\n",
       "      <td>1</td>\n",
       "      <td>Friday</td>\n",
       "      <td>2013</td>\n",
       "    </tr>\n",
       "    <tr>\n",
       "      <th>358808</th>\n",
       "      <td>2015-06-25</td>\n",
       "      <td>6</td>\n",
       "      <td>June</td>\n",
       "      <td>25</td>\n",
       "      <td>Thursday</td>\n",
       "      <td>2015</td>\n",
       "    </tr>\n",
       "    <tr>\n",
       "      <th>358809</th>\n",
       "      <td>2015-05-12</td>\n",
       "      <td>5</td>\n",
       "      <td>May</td>\n",
       "      <td>12</td>\n",
       "      <td>Tuesday</td>\n",
       "      <td>2015</td>\n",
       "    </tr>\n",
       "  </tbody>\n",
       "</table>\n",
       "<p>358810 rows × 6 columns</p>\n",
       "</div>"
      ],
      "text/plain": [
       "       Date received  Month Number Month Name  Day Number   Day Name  Year\n",
       "0         2015-10-14            10    October          14  Wednesday  2015\n",
       "1         2015-04-26             4      April          26     Sunday  2015\n",
       "2         2013-12-20            12   December          20     Friday  2013\n",
       "3         2016-03-03             3      March           3   Thursday  2016\n",
       "4         2015-01-30             1    January          30     Friday  2015\n",
       "...              ...           ...        ...         ...        ...   ...\n",
       "358805    2014-04-14             4      April          14     Monday  2014\n",
       "358806    2013-03-14             3      March          14   Thursday  2013\n",
       "358807    2013-02-01             2   February           1     Friday  2013\n",
       "358808    2015-06-25             6       June          25   Thursday  2015\n",
       "358809    2015-05-12             5        May          12    Tuesday  2015\n",
       "\n",
       "[358810 rows x 6 columns]"
      ]
     },
     "execution_count": 25,
     "metadata": {},
     "output_type": "execute_result"
    }
   ],
   "source": [
    "df_date"
   ]
  },
  {
   "cell_type": "code",
   "execution_count": 26,
   "metadata": {},
   "outputs": [],
   "source": [
    "month_count_name = df_date[\"Month Number\"].value_counts().index\n",
    "month_count_value = df_date[\"Month Number\"].value_counts().values\n",
    "df_month = pd.DataFrame([month_count_name,month_count_value]).T\n",
    "df_month.columns =[\"Month\",\"Number of Complaints\"]\n",
    "df_month.sort_values(\"Month\", inplace = True)\n",
    "df_month[\"Month\"]= pd.to_datetime(df_month.Month,format = \"%m\").dt.month_name()"
   ]
  },
  {
   "cell_type": "code",
   "execution_count": 27,
   "metadata": {},
   "outputs": [
    {
     "data": {
      "image/png": "[encoded data removed]",
      "text/plain": [
       "<Figure size 1440x720 with 1 Axes>"
      ]
     },
     "metadata": {
      "needs_background": "light"
     },
     "output_type": "display_data"
    }
   ],
   "source": [
    "#Visualize this Data\n",
    "plt.figure(figsize=(20, 10))\n",
    "ax = plt.axes()\n",
    "\n",
    "ax.set_facecolor('#89c4f4')\n",
    "plt.bar(df_month[\"Month\"],df_month[\"Number of Complaints\"], color = \"#f1a9a0\")\n",
    "plt.title('Frequency of the complaints by Months\\n', fontsize=15, fontstyle='italic')\n",
    "plt.xticks(fontsize=13)\n",
    "plt.yticks(fontsize=12)\n",
    "plt.xlabel('\\nMonths', fontsize=18)\n",
    "plt.ylabel('Frequency\\n', fontsize=13)\n",
    "#plt.xticks(rotation=90)\n",
    "plt.legend([\"Issues\"])\n",
    "plt.show()"
   ]
  },
  {
   "cell_type": "code",
   "execution_count": 28,
   "metadata": {},
   "outputs": [
    {
     "data": {
      "text/html": [
       "<div>\n",
       "<style scoped>\n",
       "    .dataframe tbody tr th:only-of-type {\n",
       "        vertical-align: middle;\n",
       "    }\n",
       "\n",
       "    .dataframe tbody tr th {\n",
       "        vertical-align: top;\n",
       "    }\n",
       "\n",
       "    .dataframe thead th {\n",
       "        text-align: right;\n",
       "    }\n",
       "</style>\n",
       "<table border=\"1\" class=\"dataframe\">\n",
       "  <thead>\n",
       "    <tr style=\"text-align: right;\">\n",
       "      <th></th>\n",
       "      <th>Day</th>\n",
       "      <th>Number of Complaints</th>\n",
       "    </tr>\n",
       "  </thead>\n",
       "  <tbody>\n",
       "    <tr>\n",
       "      <th>0</th>\n",
       "      <td>Monday</td>\n",
       "      <td>58817</td>\n",
       "    </tr>\n",
       "    <tr>\n",
       "      <th>1</th>\n",
       "      <td>Tuesday</td>\n",
       "      <td>68750</td>\n",
       "    </tr>\n",
       "    <tr>\n",
       "      <th>2</th>\n",
       "      <td>Wednesday</td>\n",
       "      <td>69583</td>\n",
       "    </tr>\n",
       "    <tr>\n",
       "      <th>3</th>\n",
       "      <td>Thursday</td>\n",
       "      <td>66618</td>\n",
       "    </tr>\n",
       "    <tr>\n",
       "      <th>4</th>\n",
       "      <td>Friday</td>\n",
       "      <td>59348</td>\n",
       "    </tr>\n",
       "    <tr>\n",
       "      <th>5</th>\n",
       "      <td>Saturday</td>\n",
       "      <td>20752</td>\n",
       "    </tr>\n",
       "    <tr>\n",
       "      <th>6</th>\n",
       "      <td>Sunday</td>\n",
       "      <td>14942</td>\n",
       "    </tr>\n",
       "  </tbody>\n",
       "</table>\n",
       "</div>"
      ],
      "text/plain": [
       "         Day Number of Complaints\n",
       "0     Monday                58817\n",
       "1    Tuesday                68750\n",
       "2  Wednesday                69583\n",
       "3   Thursday                66618\n",
       "4     Friday                59348\n",
       "5   Saturday                20752\n",
       "6     Sunday                14942"
      ]
     },
     "execution_count": 28,
     "metadata": {},
     "output_type": "execute_result"
    }
   ],
   "source": [
    "days = [\"Monday\", \"Tuesday\", \"Wednesday\", \"Thursday\", \"Friday\", \"Saturday\", \"Sunday\"]\n",
    "day_count_name = df_date[\"Day Name\"].value_counts().index\n",
    "day_count_value = df_date[\"Day Name\"].value_counts().values\n",
    "df_day = pd.DataFrame([day_count_name,day_count_value]).T\n",
    "df_day.columns =[\"Day\",\"Number of Complaints\"]\n",
    "df_day[\"Day\"] = pd.Categorical(df_day.Day, categories=days, ordered=True)\n",
    "df_day.sort_values(\"Day\", inplace = True)\n",
    "df_day.reset_index(drop = True, inplace = True)\n",
    "df_day"
   ]
  },
  {
   "cell_type": "code",
   "execution_count": 29,
   "metadata": {},
   "outputs": [
    {
     "data": {
      "image/png": "[encoded data removed]",
      "text/plain": [
       "<Figure size 1440x720 with 1 Axes>"
      ]
     },
     "metadata": {
      "needs_background": "light"
     },
     "output_type": "display_data"
    }
   ],
   "source": [
    "#Visualize this Data\n",
    "plt.figure(figsize=(20, 10))\n",
    "ax = plt.axes()\n",
    "ax.set_facecolor('#34495e')\n",
    "plt.bar(df_day[\"Day\"],df_day[\"Number of Complaints\"], color = \"#c5eff7\")\n",
    "plt.title('Frequency of the complaints by Days\\n', fontsize=15, fontstyle='italic')\n",
    "plt.xticks(fontsize=13)\n",
    "plt.yticks(fontsize=12)\n",
    "plt.xlabel('\\nDays', fontsize=18)\n",
    "plt.ylabel('Frequency\\n', fontsize=13)\n",
    "#plt.xticks(rotation=90)\n",
    "plt.legend([\"Issues\"])\n",
    "plt.show()"
   ]
  },
  {
   "cell_type": "markdown",
   "metadata": {},
   "source": [
    "##### The above figures shows complaints increase on March and on Wednesdays. Sundays and November seem to have the least complaints\n"
   ]
  },
  {
   "cell_type": "markdown",
   "metadata": {},
   "source": [
    "## Companies response to customers and the most common responses"
   ]
  },
  {
   "cell_type": "code",
   "execution_count": 30,
   "metadata": {},
   "outputs": [
    {
     "data": {
      "text/html": [
       "<div>\n",
       "<style scoped>\n",
       "    .dataframe tbody tr th:only-of-type {\n",
       "        vertical-align: middle;\n",
       "    }\n",
       "\n",
       "    .dataframe tbody tr th {\n",
       "        vertical-align: top;\n",
       "    }\n",
       "\n",
       "    .dataframe thead th {\n",
       "        text-align: right;\n",
       "    }\n",
       "</style>\n",
       "<table border=\"1\" class=\"dataframe\">\n",
       "  <thead>\n",
       "    <tr style=\"text-align: right;\">\n",
       "      <th></th>\n",
       "      <th>Response</th>\n",
       "      <th>Frequency</th>\n",
       "    </tr>\n",
       "  </thead>\n",
       "  <tbody>\n",
       "    <tr>\n",
       "      <th>0</th>\n",
       "      <td>Closed with explanation</td>\n",
       "      <td>265700</td>\n",
       "    </tr>\n",
       "    <tr>\n",
       "      <th>1</th>\n",
       "      <td>Closed with non-monetary relief</td>\n",
       "      <td>46085</td>\n",
       "    </tr>\n",
       "    <tr>\n",
       "      <th>2</th>\n",
       "      <td>Closed with monetary relief</td>\n",
       "      <td>24715</td>\n",
       "    </tr>\n",
       "    <tr>\n",
       "      <th>3</th>\n",
       "      <td>Closed without relief</td>\n",
       "      <td>10604</td>\n",
       "    </tr>\n",
       "    <tr>\n",
       "      <th>4</th>\n",
       "      <td>Closed</td>\n",
       "      <td>8568</td>\n",
       "    </tr>\n",
       "    <tr>\n",
       "      <th>5</th>\n",
       "      <td>Closed with relief</td>\n",
       "      <td>3138</td>\n",
       "    </tr>\n",
       "  </tbody>\n",
       "</table>\n",
       "</div>"
      ],
      "text/plain": [
       "                          Response Frequency\n",
       "0          Closed with explanation    265700\n",
       "1  Closed with non-monetary relief     46085\n",
       "2      Closed with monetary relief     24715\n",
       "3            Closed without relief     10604\n",
       "4                           Closed      8568\n",
       "5               Closed with relief      3138"
      ]
     },
     "execution_count": 30,
     "metadata": {},
     "output_type": "execute_result"
    }
   ],
   "source": [
    "#using data_train\n",
    "response_name = data_train[\"Company response to consumer\"].value_counts().index\n",
    "response_count = data_train[\"Company response to consumer\"].value_counts().values\n",
    "df_response = pd.DataFrame([response_name,response_count]).T\n",
    "df_response.columns = [\"Response\",\"Frequency\"]\n",
    "df_response"
   ]
  },
  {
   "cell_type": "code",
   "execution_count": 31,
   "metadata": {},
   "outputs": [
    {
     "data": {
      "image/png": "[encoded data removed]",
      "text/plain": [
       "<Figure size 1080x360 with 1 Axes>"
      ]
     },
     "metadata": {
      "needs_background": "light"
     },
     "output_type": "display_data"
    }
   ],
   "source": [
    "plt.figure(figsize=(15, 5))\n",
    "ax = plt.axes()\n",
    "plt.barh(df_response.Response, df_response.Frequency, color='#f7ca18')\n",
    "plt.title('Responses by the Companies\\n', fontsize=17)\n",
    "ax.set_facecolor('#fefad4') \n",
    "plt.xlabel('\\nFrequency', fontsize=12)\n",
    "plt.ylabel('Responses\\n', fontsize=12)\n",
    "plt.yticks( fontsize=13)\n",
    "plt.legend([\"Response\"])\n",
    "plt.show()"
   ]
  },
  {
   "cell_type": "markdown",
   "metadata": {},
   "source": [
    "##### Companies respond to customers in 5 different ways. The response with the highest frequency is \"Closed With Explanation\""
   ]
  },
  {
   "cell_type": "markdown",
   "metadata": {},
   "source": [
    "## Responding to complaints in a timely manner alter the number of consumers that disputed the company response ?"
   ]
  },
  {
   "cell_type": "code",
   "execution_count": 32,
   "metadata": {},
   "outputs": [],
   "source": [
    "#using data_train\n",
    "response_dt = data_train[[\"Timely response?\",\"Consumer disputed?\",\"Complaint ID\"]]"
   ]
  },
  {
   "cell_type": "code",
   "execution_count": 33,
   "metadata": {},
   "outputs": [
    {
     "data": {
      "text/html": [
       "<div>\n",
       "<style scoped>\n",
       "    .dataframe tbody tr th:only-of-type {\n",
       "        vertical-align: middle;\n",
       "    }\n",
       "\n",
       "    .dataframe tbody tr th {\n",
       "        vertical-align: top;\n",
       "    }\n",
       "\n",
       "    .dataframe thead th {\n",
       "        text-align: right;\n",
       "    }\n",
       "</style>\n",
       "<table border=\"1\" class=\"dataframe\">\n",
       "  <thead>\n",
       "    <tr style=\"text-align: right;\">\n",
       "      <th></th>\n",
       "      <th></th>\n",
       "      <th>Complaint ID</th>\n",
       "    </tr>\n",
       "    <tr>\n",
       "      <th>Timely response?</th>\n",
       "      <th>Consumer disputed?</th>\n",
       "      <th></th>\n",
       "    </tr>\n",
       "  </thead>\n",
       "  <tbody>\n",
       "    <tr>\n",
       "      <th rowspan=\"2\" valign=\"top\">No</th>\n",
       "      <th>No</th>\n",
       "      <td>4906</td>\n",
       "    </tr>\n",
       "    <tr>\n",
       "      <th>Yes</th>\n",
       "      <td>1229</td>\n",
       "    </tr>\n",
       "    <tr>\n",
       "      <th rowspan=\"2\" valign=\"top\">Yes</th>\n",
       "      <th>No</th>\n",
       "      <td>277732</td>\n",
       "    </tr>\n",
       "    <tr>\n",
       "      <th>Yes</th>\n",
       "      <td>74943</td>\n",
       "    </tr>\n",
       "  </tbody>\n",
       "</table>\n",
       "</div>"
      ],
      "text/plain": [
       "                                     Complaint ID\n",
       "Timely response? Consumer disputed?              \n",
       "No               No                          4906\n",
       "                 Yes                         1229\n",
       "Yes              No                        277732\n",
       "                 Yes                        74943"
      ]
     },
     "metadata": {},
     "output_type": "display_data"
    }
   ],
   "source": [
    "response = response_dt.groupby([\"Timely response?\",\"Consumer disputed?\"]).count()\n",
    "display(response)\n",
    "timely = response.iloc[2:,:]\n",
    "not_timely = response.iloc[0:2,:]\n",
    "\n",
    "# Timely response and the customer disputed\n",
    "timely_dispute = int(timely.iloc[1:,]['Complaint ID'].values)\n",
    "\n",
    "# Timely response and the customer did not dispute\n",
    "timely_nodispute = int(timely.iloc[:1]['Complaint ID'].values)\n",
    "\n",
    "# Not timely response and the customer disputed\n",
    "nontimely_dispute = int(not_timely[1:].values)\n",
    "\n",
    "# Not timely response and the customer did not dispute\n",
    "nontimely_nodispute = int(not_timely[0:1].values)\n"
   ]
  },
  {
   "cell_type": "code",
   "execution_count": 34,
   "metadata": {},
   "outputs": [
    {
     "name": "stdout",
     "output_type": "stream",
     "text": [
      "#################################################################\n",
      "% Of times response was timely and cusomter disputed      : 21.0%\n",
      "% Of times response was not-timely and cusomter disputed  : 20.0%\n",
      "#################################################################\n"
     ]
    }
   ],
   "source": [
    "print(\"#################################################################\")\n",
    "print(\"% Of times response was timely and cusomter disputed      : {}%\".format(round(timely_dispute/(timely_dispute+timely_nodispute),2)*100))\n",
    "print(\"% Of times response was not-timely and cusomter disputed  : {}%\".format(round(nontimely_dispute/(nontimely_dispute+nontimely_nodispute),2)*100))\n",
    "print(\"#################################################################\")"
   ]
  },
  {
   "cell_type": "markdown",
   "metadata": {},
   "source": [
    "##### It looks like Timely response or otherwise, does not actually have an impact on the Dispute decision by the customer"
   ]
  },
  {
   "cell_type": "markdown",
   "metadata": {},
   "source": [
    "# PART 2-TEXT BASED MODELLING"
   ]
  },
  {
   "cell_type": "markdown",
   "metadata": {},
   "source": [
    "##### Making a text classifier to identify the product from Consumer Narrative"
   ]
  },
  {
   "cell_type": "code",
   "execution_count": 182,
   "metadata": {},
   "outputs": [],
   "source": [
    "import string,re\n",
    "from nltk.tokenize import word_tokenize\n",
    "from nltk.corpus import stopwords\n",
    "from sklearn.model_selection import train_test_split\n",
    "from sklearn.preprocessing import LabelEncoder\n",
    "from sklearn.metrics import accuracy_score"
   ]
  },
  {
   "cell_type": "code",
   "execution_count": 36,
   "metadata": {},
   "outputs": [
    {
     "data": {
      "text/plain": [
       "pandas.core.series.Series"
      ]
     },
     "execution_count": 36,
     "metadata": {},
     "output_type": "execute_result"
    }
   ],
   "source": [
    "data_train[\"Consumer complaint narrative\"]=data_train[\"Consumer complaint narrative\"].str.lower()\n",
    "narrative = data_train[\"Consumer complaint narrative\"].dropna()\n",
    "type(narrative)"
   ]
  },
  {
   "cell_type": "code",
   "execution_count": 37,
   "metadata": {},
   "outputs": [],
   "source": [
    "# This code can be skipped ,cleaned text is saved as a CSV 1/5\n",
    "def text_cleaner(text):\n",
    "    #text = word_tokenize(text)\n",
    "    #text = \" \".join(text)\n",
    "    text = [word for word in text.split() if word.lower() not in stopwords.words(\"English\")]\n",
    "    text = \" \".join(text)\n",
    "    text = [char for char in text if char not in string.digits]\n",
    "    text = \"\".join(text)\n",
    "    text = text.replace('xxxx', '')\n",
    "    text = text.replace('xx', '')\n",
    "    text = [char for char in text if char not in string.punctuation]\n",
    "    text = \"\".join(text)\n",
    "    text = word_tokenize(text)\n",
    "    text = \" \".join(text)\n",
    "    return text\n",
    "    \n",
    "ten_cleaned = narrative.apply(text_cleaner)"
   ]
  },
  {
   "cell_type": "code",
   "execution_count": 38,
   "metadata": {},
   "outputs": [],
   "source": [
    "# This code can be skipped ,cleaned text is saved as a CSV 2/5\n",
    "ten_cleaned.reset_index(drop = True,inplace = True)"
   ]
  },
  {
   "cell_type": "code",
   "execution_count": 39,
   "metadata": {},
   "outputs": [],
   "source": [
    "# This code can be skipped ,cleaned text is saved as a CSV 3/5\n",
    "df_narrative = pd.DataFrame()\n",
    "df_narrative[\"Consumer complaint narrative Original\"]=data_train[\"Consumer complaint narrative\"].str.lower()\n",
    "df_narrative[\"Product\"] = data_train[\"Product\"]\n",
    "df_narrative.dropna(inplace = True)\n",
    "df_narrative.reset_index(drop= True, inplace = True)\n",
    "df_narrative_final = pd.concat([df_narrative,ten_cleaned],axis = 1)"
   ]
  },
  {
   "cell_type": "code",
   "execution_count": 40,
   "metadata": {},
   "outputs": [
    {
     "data": {
      "text/plain": [
       "Debt collection            14402\n",
       "Mortgage                   12244\n",
       "Credit reporting           10670\n",
       "Credit card                 6659\n",
       "Bank account or service     4875\n",
       "Consumer Loan               3104\n",
       "Student loan                2371\n",
       "Prepaid card                 608\n",
       "Payday loan                  604\n",
       "Money transfers              543\n",
       "Other financial service       96\n",
       "Virtual currency               4\n",
       "Name: Product, dtype: int64"
      ]
     },
     "execution_count": 40,
     "metadata": {},
     "output_type": "execute_result"
    }
   ],
   "source": [
    "# This code can be skipped ,cleaned text is saved as a CSV 4/5\n",
    "df_narrative_final.Product.value_counts()"
   ]
  },
  {
   "cell_type": "code",
   "execution_count": 41,
   "metadata": {
    "scrolled": false
   },
   "outputs": [
    {
     "data": {
      "text/html": [
       "<div>\n",
       "<style scoped>\n",
       "    .dataframe tbody tr th:only-of-type {\n",
       "        vertical-align: middle;\n",
       "    }\n",
       "\n",
       "    .dataframe tbody tr th {\n",
       "        vertical-align: top;\n",
       "    }\n",
       "\n",
       "    .dataframe thead th {\n",
       "        text-align: right;\n",
       "    }\n",
       "</style>\n",
       "<table border=\"1\" class=\"dataframe\">\n",
       "  <thead>\n",
       "    <tr style=\"text-align: right;\">\n",
       "      <th></th>\n",
       "      <th>Product</th>\n",
       "      <th>Consumer complaint narrative</th>\n",
       "    </tr>\n",
       "  </thead>\n",
       "  <tbody>\n",
       "    <tr>\n",
       "      <th>0</th>\n",
       "      <td>Bank account or service</td>\n",
       "      <td>privileged confidential informationdear consum...</td>\n",
       "    </tr>\n",
       "  </tbody>\n",
       "</table>\n",
       "</div>"
      ],
      "text/plain": [
       "                   Product                       Consumer complaint narrative\n",
       "0  Bank account or service  privileged confidential informationdear consum..."
      ]
     },
     "execution_count": 41,
     "metadata": {},
     "output_type": "execute_result"
    }
   ],
   "source": [
    "# This code can be skipped ,cleaned text is saved as a CSV 5/5\n",
    "df_narrative_final.drop(\"Consumer complaint narrative Original\",inplace = True,axis = 1)\n",
    "df_narrative_final.head(1)"
   ]
  },
  {
   "cell_type": "code",
   "execution_count": 42,
   "metadata": {},
   "outputs": [],
   "source": [
    "df_narrative_final.to_csv(\"FINAL.csv\")"
   ]
  },
  {
   "cell_type": "markdown",
   "metadata": {},
   "source": [
    "##### HAD to save this as a csv as the text cleaning process took >1hour. \n"
   ]
  },
  {
   "cell_type": "code",
   "execution_count": 96,
   "metadata": {},
   "outputs": [
    {
     "data": {
      "text/html": [
       "<div>\n",
       "<style scoped>\n",
       "    .dataframe tbody tr th:only-of-type {\n",
       "        vertical-align: middle;\n",
       "    }\n",
       "\n",
       "    .dataframe tbody tr th {\n",
       "        vertical-align: top;\n",
       "    }\n",
       "\n",
       "    .dataframe thead th {\n",
       "        text-align: right;\n",
       "    }\n",
       "</style>\n",
       "<table border=\"1\" class=\"dataframe\">\n",
       "  <thead>\n",
       "    <tr style=\"text-align: right;\">\n",
       "      <th></th>\n",
       "      <th>Product</th>\n",
       "      <th>Consumer complaint narrative</th>\n",
       "    </tr>\n",
       "  </thead>\n",
       "  <tbody>\n",
       "    <tr>\n",
       "      <th>0</th>\n",
       "      <td>Bank account or service</td>\n",
       "      <td>privileged confidential informationdear consum...</td>\n",
       "    </tr>\n",
       "    <tr>\n",
       "      <th>1</th>\n",
       "      <td>Mortgage</td>\n",
       "      <td>homeowner applied nd modification due reset fi...</td>\n",
       "    </tr>\n",
       "    <tr>\n",
       "      <th>2</th>\n",
       "      <td>Debt collection</td>\n",
       "      <td>started service cable company named account we...</td>\n",
       "    </tr>\n",
       "    <tr>\n",
       "      <th>3</th>\n",
       "      <td>Consumer Loan</td>\n",
       "      <td>went dealership told would receive rate agreed...</td>\n",
       "    </tr>\n",
       "    <tr>\n",
       "      <th>4</th>\n",
       "      <td>Debt collection</td>\n",
       "      <td>requested portfolio recovery services prs clai...</td>\n",
       "    </tr>\n",
       "    <tr>\n",
       "      <th>...</th>\n",
       "      <td>...</td>\n",
       "      <td>...</td>\n",
       "    </tr>\n",
       "    <tr>\n",
       "      <th>56175</th>\n",
       "      <td>Mortgage</td>\n",
       "      <td>short sell approved ocwen home listed instruct...</td>\n",
       "    </tr>\n",
       "    <tr>\n",
       "      <th>56176</th>\n",
       "      <td>Credit card</td>\n",
       "      <td>required use government card travel erroneousl...</td>\n",
       "    </tr>\n",
       "    <tr>\n",
       "      <th>56177</th>\n",
       "      <td>Credit reporting</td>\n",
       "      <td>working tirelessly repairing credit history in...</td>\n",
       "    </tr>\n",
       "    <tr>\n",
       "      <th>56178</th>\n",
       "      <td>Debt collection</td>\n",
       "      <td>consumer financial protection bureaure dear in...</td>\n",
       "    </tr>\n",
       "    <tr>\n",
       "      <th>56179</th>\n",
       "      <td>Debt collection</td>\n",
       "      <td>collection agent named revenue group stated wo...</td>\n",
       "    </tr>\n",
       "  </tbody>\n",
       "</table>\n",
       "<p>56180 rows × 2 columns</p>\n",
       "</div>"
      ],
      "text/plain": [
       "                       Product  \\\n",
       "0      Bank account or service   \n",
       "1                     Mortgage   \n",
       "2              Debt collection   \n",
       "3                Consumer Loan   \n",
       "4              Debt collection   \n",
       "...                        ...   \n",
       "56175                 Mortgage   \n",
       "56176              Credit card   \n",
       "56177         Credit reporting   \n",
       "56178          Debt collection   \n",
       "56179          Debt collection   \n",
       "\n",
       "                            Consumer complaint narrative  \n",
       "0      privileged confidential informationdear consum...  \n",
       "1      homeowner applied nd modification due reset fi...  \n",
       "2      started service cable company named account we...  \n",
       "3      went dealership told would receive rate agreed...  \n",
       "4      requested portfolio recovery services prs clai...  \n",
       "...                                                  ...  \n",
       "56175  short sell approved ocwen home listed instruct...  \n",
       "56176  required use government card travel erroneousl...  \n",
       "56177  working tirelessly repairing credit history in...  \n",
       "56178  consumer financial protection bureaure dear in...  \n",
       "56179  collection agent named revenue group stated wo...  \n",
       "\n",
       "[56180 rows x 2 columns]"
      ]
     },
     "execution_count": 96,
     "metadata": {},
     "output_type": "execute_result"
    }
   ],
   "source": [
    "# # if csv is needed, uncomment this set of code:\n",
    "df_narrative_final = pd.read_csv(\"FINAL.csv\")\n",
    "df_narrative_final.drop('Unnamed: 0',axis = 1, inplace = True)\n",
    "df_narrative_final"
   ]
  },
  {
   "cell_type": "code",
   "execution_count": 97,
   "metadata": {},
   "outputs": [],
   "source": [
    "lb = LabelEncoder()\n",
    "labelled = lb.fit_transform(df_narrative_final[\"Product\"])"
   ]
  },
  {
   "cell_type": "code",
   "execution_count": 98,
   "metadata": {},
   "outputs": [
    {
     "name": "stdout",
     "output_type": "stream",
     "text": [
      "<class 'numpy.ndarray'>\n"
     ]
    }
   ],
   "source": [
    "print(type(labelled_product))\n",
    "labeled_product = pd.Series(labelled).T"
   ]
  },
  {
   "cell_type": "code",
   "execution_count": 99,
   "metadata": {},
   "outputs": [],
   "source": [
    "df_narrative = pd.concat([df_narrative_final,labeled_product],axis = 1)"
   ]
  },
  {
   "cell_type": "code",
   "execution_count": 100,
   "metadata": {},
   "outputs": [],
   "source": [
    "df_narrative.rename(columns = {0:\"Product Number\"}, inplace = True)"
   ]
  },
  {
   "cell_type": "code",
   "execution_count": 101,
   "metadata": {},
   "outputs": [
    {
     "data": {
      "text/html": [
       "<div>\n",
       "<style scoped>\n",
       "    .dataframe tbody tr th:only-of-type {\n",
       "        vertical-align: middle;\n",
       "    }\n",
       "\n",
       "    .dataframe tbody tr th {\n",
       "        vertical-align: top;\n",
       "    }\n",
       "\n",
       "    .dataframe thead th {\n",
       "        text-align: right;\n",
       "    }\n",
       "</style>\n",
       "<table border=\"1\" class=\"dataframe\">\n",
       "  <thead>\n",
       "    <tr style=\"text-align: right;\">\n",
       "      <th></th>\n",
       "      <th>Product</th>\n",
       "      <th>Consumer complaint narrative</th>\n",
       "      <th>Product Number</th>\n",
       "    </tr>\n",
       "  </thead>\n",
       "  <tbody>\n",
       "    <tr>\n",
       "      <th>0</th>\n",
       "      <td>Bank account or service</td>\n",
       "      <td>privileged confidential informationdear consum...</td>\n",
       "      <td>0</td>\n",
       "    </tr>\n",
       "    <tr>\n",
       "      <th>1</th>\n",
       "      <td>Mortgage</td>\n",
       "      <td>homeowner applied nd modification due reset fi...</td>\n",
       "      <td>6</td>\n",
       "    </tr>\n",
       "    <tr>\n",
       "      <th>2</th>\n",
       "      <td>Debt collection</td>\n",
       "      <td>started service cable company named account we...</td>\n",
       "      <td>4</td>\n",
       "    </tr>\n",
       "    <tr>\n",
       "      <th>3</th>\n",
       "      <td>Consumer Loan</td>\n",
       "      <td>went dealership told would receive rate agreed...</td>\n",
       "      <td>1</td>\n",
       "    </tr>\n",
       "    <tr>\n",
       "      <th>4</th>\n",
       "      <td>Debt collection</td>\n",
       "      <td>requested portfolio recovery services prs clai...</td>\n",
       "      <td>4</td>\n",
       "    </tr>\n",
       "    <tr>\n",
       "      <th>...</th>\n",
       "      <td>...</td>\n",
       "      <td>...</td>\n",
       "      <td>...</td>\n",
       "    </tr>\n",
       "    <tr>\n",
       "      <th>56175</th>\n",
       "      <td>Mortgage</td>\n",
       "      <td>short sell approved ocwen home listed instruct...</td>\n",
       "      <td>6</td>\n",
       "    </tr>\n",
       "    <tr>\n",
       "      <th>56176</th>\n",
       "      <td>Credit card</td>\n",
       "      <td>required use government card travel erroneousl...</td>\n",
       "      <td>2</td>\n",
       "    </tr>\n",
       "    <tr>\n",
       "      <th>56177</th>\n",
       "      <td>Credit reporting</td>\n",
       "      <td>working tirelessly repairing credit history in...</td>\n",
       "      <td>3</td>\n",
       "    </tr>\n",
       "    <tr>\n",
       "      <th>56178</th>\n",
       "      <td>Debt collection</td>\n",
       "      <td>consumer financial protection bureaure dear in...</td>\n",
       "      <td>4</td>\n",
       "    </tr>\n",
       "    <tr>\n",
       "      <th>56179</th>\n",
       "      <td>Debt collection</td>\n",
       "      <td>collection agent named revenue group stated wo...</td>\n",
       "      <td>4</td>\n",
       "    </tr>\n",
       "  </tbody>\n",
       "</table>\n",
       "<p>56180 rows × 3 columns</p>\n",
       "</div>"
      ],
      "text/plain": [
       "                       Product  \\\n",
       "0      Bank account or service   \n",
       "1                     Mortgage   \n",
       "2              Debt collection   \n",
       "3                Consumer Loan   \n",
       "4              Debt collection   \n",
       "...                        ...   \n",
       "56175                 Mortgage   \n",
       "56176              Credit card   \n",
       "56177         Credit reporting   \n",
       "56178          Debt collection   \n",
       "56179          Debt collection   \n",
       "\n",
       "                            Consumer complaint narrative  Product Number  \n",
       "0      privileged confidential informationdear consum...               0  \n",
       "1      homeowner applied nd modification due reset fi...               6  \n",
       "2      started service cable company named account we...               4  \n",
       "3      went dealership told would receive rate agreed...               1  \n",
       "4      requested portfolio recovery services prs clai...               4  \n",
       "...                                                  ...             ...  \n",
       "56175  short sell approved ocwen home listed instruct...               6  \n",
       "56176  required use government card travel erroneousl...               2  \n",
       "56177  working tirelessly repairing credit history in...               3  \n",
       "56178  consumer financial protection bureaure dear in...               4  \n",
       "56179  collection agent named revenue group stated wo...               4  \n",
       "\n",
       "[56180 rows x 3 columns]"
      ]
     },
     "execution_count": 101,
     "metadata": {},
     "output_type": "execute_result"
    }
   ],
   "source": [
    "#Checks\n",
    "# print(df_narrative.Product.value_counts())\n",
    "# print(df_narrative.isnull().sum())\n",
    "# print(df_narrative[\"Product Number\"].value_counts())\n",
    "# df_narrative.columns\n",
    "#df_narrative.to_csv(\"Final_Narrative.csv\")\n",
    "#df_narrative.drop(\"Product\", axis = 1, inplace = True)\n",
    "df_narrative"
   ]
  },
  {
   "cell_type": "markdown",
   "metadata": {},
   "source": [
    "##### splitting the data into train and test, but the product percentage has high variance(the number of times Debt shows up is extremely high compared to Virtual currency etc), will it effect the model? can prediction be bettered with stratification? If the score of the model without stratify is extremely high( > 90%), I will not make another model with stratification\n"
   ]
  },
  {
   "cell_type": "markdown",
   "metadata": {},
   "source": [
    "### Model without stratify"
   ]
  },
  {
   "cell_type": "code",
   "execution_count": 80,
   "metadata": {},
   "outputs": [],
   "source": [
    "X = df_narrative[\"Consumer complaint narrative\"]\n",
    "y = df_narrative[\"Product Number\"]\n",
    "X_train,X_test,y_train,y_test = train_test_split(X,y,test_size= 0.3,random_state = 101)"
   ]
  },
  {
   "cell_type": "code",
   "execution_count": 81,
   "metadata": {},
   "outputs": [],
   "source": [
    "from sklearn.feature_extraction.text import TfidfVectorizer\n",
    "from sklearn.svm import LinearSVC\n",
    "\n",
    "tfidf = TfidfVectorizer(sublinear_tf=True, min_df=5, ngram_range=(1, 2), stop_words='english')\n",
    "fitted_vectorizer = tfidf.fit(X_train)\n",
    "tfidf_vectorizer_vectors = fitted_vectorizer.transform(X_train)"
   ]
  },
  {
   "cell_type": "code",
   "execution_count": 86,
   "metadata": {},
   "outputs": [
    {
     "name": "stdout",
     "output_type": "stream",
     "text": [
      "0.995\n"
     ]
    }
   ],
   "source": [
    "model = LinearSVC().fit(tfidf_vectorizer_vectors, y_train)\n",
    "svc_score = model.score(tfidf_vectorizer_vectors, y_train)\n",
    "print(round(svc_score,3))"
   ]
  },
  {
   "cell_type": "markdown",
   "metadata": {},
   "source": [
    "##### Looks like the model is very good, lets check it "
   ]
  },
  {
   "cell_type": "code",
   "execution_count": null,
   "metadata": {},
   "outputs": [],
   "source": [
    "# Select 10 random complaints from the df_narrative and lets check if the model can predict the product right\n",
    "## selecting 10 random numbers between 0 and the total length of the dataframe, these generated numbers represent\n",
    "## the row number/index in the dataframe\n",
    "import random\n",
    "random_list = []\n",
    "for counter in range(0,10):\n",
    "    random_list.append(random.randint(0,len(df_narrative[\"Consumer complaint narrative\"])))\n",
    "success_counter = 0\n",
    "failure_counter = 0\n",
    "for i in random_list:\n",
    "    print(\"The generated number is {}\\nThe actual product code is {}\\nThe actual product name is {}\"\n",
    "         .format(i,int(df_narrative[\"Product Number\"].iloc[i:i+1].values),str(df_narrative[\"Product\"].iloc[i:i+1].values)))\n",
    "    complaint = (df_narrative[\"Consumer complaint narrative\"].iloc[i:i+1])\n",
    "    for j in complaint:\n",
    "        complaint = j\n",
    "    predicted_product = model.predict(fitted_vectorizer.transform([complaint]))\n",
    "    print(\"The PREDICTED PRODUCT code is {}\".format(int(predicted_product)))\n",
    "    if (int(predicted_product)) == (int(df_narrative[\"Product Number\"].iloc[i:i+1].values)):\n",
    "                                    print(\"Prediction Successful!\")\n",
    "                                    print(\"########################\\n\")\n",
    "                                    success_counter += 1\n",
    "    else:\n",
    "        print(\"Prediction Unsuccessful!\")\n",
    "        failure_counter +=1\n",
    "        \n",
    "print(\"Out of {} samples, this model correctly predicted {} of them.\".format(len(random_list),success_counter))\n",
    "    "
   ]
  },
  {
   "cell_type": "markdown",
   "metadata": {},
   "source": [
    "##### Looks like our model is certainly decent. It can correctly predict the product from the customer's narrative. There is always a chance the model will wrongly predict a product, but the chance of that happenning is extremely less."
   ]
  },
  {
   "cell_type": "code",
   "execution_count": null,
   "metadata": {},
   "outputs": [],
   "source": [
    "# Lets use this model to predict on the Test data"
   ]
  },
  {
   "cell_type": "code",
   "execution_count": 181,
   "metadata": {},
   "outputs": [],
   "source": [
    "tfidf = TfidfVectorizer(sublinear_tf=True, min_df=5, ngram_range=(1, 2), stop_words='english')\n",
    "fitted_vectorizer_test = tfidf.fit(X_test)\n",
    "tfidf_vectorizer_vectors_test = fitted_vectorizer.transform(X_test)\n",
    "pred = model.predict(tfidf_vectorizer_vectors_test)"
   ]
  },
  {
   "cell_type": "code",
   "execution_count": 185,
   "metadata": {},
   "outputs": [
    {
     "name": "stdout",
     "output_type": "stream",
     "text": [
      "The Accuracy Score is 86.4%\n"
     ]
    }
   ],
   "source": [
    "accuracyScore = round(accuracy_score(y_test,pred),3)\n",
    "print(\"The Accuracy Score is {}%\".format(accuracyScore*100))"
   ]
  },
  {
   "cell_type": "markdown",
   "metadata": {},
   "source": [
    "##### Not overfitting and certainly not underfitting. looks good.\n",
    "##### This ends the Text Modelling "
   ]
  },
  {
   "cell_type": "markdown",
   "metadata": {},
   "source": [
    "# Build a model to predict whether the consumer will dispute the resolution of the complaint or not"
   ]
  },
  {
   "cell_type": "markdown",
   "metadata": {},
   "source": [
    "## Feature Engineering or the art of selecting the right features and processing them"
   ]
  },
  {
   "cell_type": "code",
   "execution_count": 363,
   "metadata": {
    "scrolled": true
   },
   "outputs": [
    {
     "data": {
      "text/html": [
       "<div>\n",
       "<style scoped>\n",
       "    .dataframe tbody tr th:only-of-type {\n",
       "        vertical-align: middle;\n",
       "    }\n",
       "\n",
       "    .dataframe tbody tr th {\n",
       "        vertical-align: top;\n",
       "    }\n",
       "\n",
       "    .dataframe thead th {\n",
       "        text-align: right;\n",
       "    }\n",
       "</style>\n",
       "<table border=\"1\" class=\"dataframe\">\n",
       "  <thead>\n",
       "    <tr style=\"text-align: right;\">\n",
       "      <th></th>\n",
       "      <th>Date received</th>\n",
       "      <th>Product</th>\n",
       "      <th>Sub-product</th>\n",
       "      <th>Issue</th>\n",
       "      <th>Sub-issue</th>\n",
       "      <th>Consumer complaint narrative</th>\n",
       "      <th>Company public response</th>\n",
       "      <th>Company</th>\n",
       "      <th>State</th>\n",
       "      <th>ZIP code</th>\n",
       "      <th>Tags</th>\n",
       "      <th>Consumer consent provided?</th>\n",
       "      <th>Submitted via</th>\n",
       "      <th>Date sent to company</th>\n",
       "      <th>Company response to consumer</th>\n",
       "      <th>Timely response?</th>\n",
       "      <th>Consumer disputed?</th>\n",
       "      <th>Complaint ID</th>\n",
       "    </tr>\n",
       "  </thead>\n",
       "  <tbody>\n",
       "    <tr>\n",
       "      <th>0</th>\n",
       "      <td>2015-10-14</td>\n",
       "      <td>Credit reporting</td>\n",
       "      <td>NaN</td>\n",
       "      <td>Incorrect information on credit report</td>\n",
       "      <td>Information is not mine</td>\n",
       "      <td>NaN</td>\n",
       "      <td>NaN</td>\n",
       "      <td>Equifax</td>\n",
       "      <td>GA</td>\n",
       "      <td>30134</td>\n",
       "      <td>NaN</td>\n",
       "      <td>Consent not provided</td>\n",
       "      <td>Web</td>\n",
       "      <td>2015-10-14</td>\n",
       "      <td>Closed with explanation</td>\n",
       "      <td>Yes</td>\n",
       "      <td>No</td>\n",
       "      <td>1605653</td>\n",
       "    </tr>\n",
       "  </tbody>\n",
       "</table>\n",
       "</div>"
      ],
      "text/plain": [
       "  Date received           Product Sub-product  \\\n",
       "0    2015-10-14  Credit reporting         NaN   \n",
       "\n",
       "                                    Issue                Sub-issue  \\\n",
       "0  Incorrect information on credit report  Information is not mine   \n",
       "\n",
       "  Consumer complaint narrative Company public response  Company State  \\\n",
       "0                          NaN                     NaN  Equifax    GA   \n",
       "\n",
       "  ZIP code Tags Consumer consent provided? Submitted via Date sent to company  \\\n",
       "0    30134  NaN       Consent not provided           Web           2015-10-14   \n",
       "\n",
       "  Company response to consumer Timely response? Consumer disputed?  \\\n",
       "0      Closed with explanation              Yes                 No   \n",
       "\n",
       "   Complaint ID  \n",
       "0       1605653  "
      ]
     },
     "metadata": {},
     "output_type": "display_data"
    }
   ],
   "source": [
    "#lets take a look at the data again\n",
    "df_train = data_train.copy() # making a copy of the dataset\n",
    "df_test = data_test.copy()\n",
    "display(data_train.head(1))"
   ]
  },
  {
   "cell_type": "code",
   "execution_count": 364,
   "metadata": {},
   "outputs": [
    {
     "name": "stdout",
     "output_type": "stream",
     "text": [
      "The Missing Values Columns of Train Data(%) :\n"
     ]
    },
    {
     "data": {
      "text/html": [
       "<div>\n",
       "<style scoped>\n",
       "    .dataframe tbody tr th:only-of-type {\n",
       "        vertical-align: middle;\n",
       "    }\n",
       "\n",
       "    .dataframe tbody tr th {\n",
       "        vertical-align: top;\n",
       "    }\n",
       "\n",
       "    .dataframe thead th {\n",
       "        text-align: right;\n",
       "    }\n",
       "</style>\n",
       "<table border=\"1\" class=\"dataframe\">\n",
       "  <thead>\n",
       "    <tr style=\"text-align: right;\">\n",
       "      <th></th>\n",
       "      <th>Sub-product</th>\n",
       "      <th>Sub-issue</th>\n",
       "      <th>Consumer complaint narrative</th>\n",
       "      <th>Company public response</th>\n",
       "      <th>State</th>\n",
       "      <th>ZIP code</th>\n",
       "      <th>Tags</th>\n",
       "      <th>Consumer consent provided?</th>\n",
       "    </tr>\n",
       "  </thead>\n",
       "  <tbody>\n",
       "    <tr>\n",
       "      <th>percent of missing Elements</th>\n",
       "      <td>28.925058</td>\n",
       "      <td>61.139322</td>\n",
       "      <td>84.342688</td>\n",
       "      <td>81.067696</td>\n",
       "      <td>0.809063</td>\n",
       "      <td>0.811293</td>\n",
       "      <td>86.002062</td>\n",
       "      <td>71.689752</td>\n",
       "    </tr>\n",
       "  </tbody>\n",
       "</table>\n",
       "</div>"
      ],
      "text/plain": [
       "                             Sub-product  Sub-issue  \\\n",
       "percent of missing Elements    28.925058  61.139322   \n",
       "\n",
       "                             Consumer complaint narrative  \\\n",
       "percent of missing Elements                     84.342688   \n",
       "\n",
       "                             Company public response     State  ZIP code  \\\n",
       "percent of missing Elements                81.067696  0.809063  0.811293   \n",
       "\n",
       "                                  Tags  Consumer consent provided?  \n",
       "percent of missing Elements  86.002062                   71.689752  "
      ]
     },
     "metadata": {},
     "output_type": "display_data"
    },
    {
     "name": "stdout",
     "output_type": "stream",
     "text": [
      "\n",
      "\n",
      "\n",
      "The Missing Values Columns of Test Data(%) :\n"
     ]
    },
    {
     "data": {
      "text/html": [
       "<div>\n",
       "<style scoped>\n",
       "    .dataframe tbody tr th:only-of-type {\n",
       "        vertical-align: middle;\n",
       "    }\n",
       "\n",
       "    .dataframe tbody tr th {\n",
       "        vertical-align: top;\n",
       "    }\n",
       "\n",
       "    .dataframe thead th {\n",
       "        text-align: right;\n",
       "    }\n",
       "</style>\n",
       "<table border=\"1\" class=\"dataframe\">\n",
       "  <thead>\n",
       "    <tr style=\"text-align: right;\">\n",
       "      <th></th>\n",
       "      <th>Sub-product</th>\n",
       "      <th>Sub-issue</th>\n",
       "      <th>Consumer complaint narrative</th>\n",
       "      <th>Company public response</th>\n",
       "      <th>State</th>\n",
       "      <th>ZIP code</th>\n",
       "      <th>Tags</th>\n",
       "      <th>Consumer consent provided?</th>\n",
       "    </tr>\n",
       "  </thead>\n",
       "  <tbody>\n",
       "    <tr>\n",
       "      <th>percent of missing Elements</th>\n",
       "      <td>28.997709</td>\n",
       "      <td>61.242747</td>\n",
       "      <td>84.186412</td>\n",
       "      <td>81.221678</td>\n",
       "      <td>0.782569</td>\n",
       "      <td>0.783406</td>\n",
       "      <td>85.805896</td>\n",
       "      <td>71.651088</td>\n",
       "    </tr>\n",
       "  </tbody>\n",
       "</table>\n",
       "</div>"
      ],
      "text/plain": [
       "                             Sub-product  Sub-issue  \\\n",
       "percent of missing Elements    28.997709  61.242747   \n",
       "\n",
       "                             Consumer complaint narrative  \\\n",
       "percent of missing Elements                     84.186412   \n",
       "\n",
       "                             Company public response     State  ZIP code  \\\n",
       "percent of missing Elements                81.221678  0.782569  0.783406   \n",
       "\n",
       "                                  Tags  Consumer consent provided?  \n",
       "percent of missing Elements  85.805896                   71.651088  "
      ]
     },
     "metadata": {},
     "output_type": "display_data"
    }
   ],
   "source": [
    "#check the nans\n",
    "def missing_values(dataframe):\n",
    "    missing_value = pd.DataFrame((dataframe.isnull().sum())).T\n",
    "    missing_value.index = [\"percent of missing Elements\"]\n",
    "    for i in missing_value.columns:\n",
    "        if int(missing_value[i].values) == 0 :\n",
    "            del missing_value[i]\n",
    "        else:\n",
    "            missing_value[i] = (missing_value[i]/len(dataframe))*100             \n",
    "    return missing_value\n",
    "    \n",
    "train_missing_df = missing_values(df_train)\n",
    "print(\"The Missing Values Columns of Train Data(%) :\")\n",
    "display(train_missing_df)\n",
    "print(\"\\n\\n\")\n",
    "test_missing_df = missing_values(df_test)\n",
    "print(\"The Missing Values Columns of Test Data(%) :\")\n",
    "display(test_missing_df)\n"
   ]
  },
  {
   "cell_type": "markdown",
   "metadata": {},
   "source": [
    "### Feature Removal"
   ]
  },
  {
   "cell_type": "code",
   "execution_count": 365,
   "metadata": {},
   "outputs": [
    {
     "name": "stdout",
     "output_type": "stream",
     "text": [
      "The Missing Values Columns of Train Data(%) :\n"
     ]
    },
    {
     "data": {
      "text/html": [
       "<div>\n",
       "<style scoped>\n",
       "    .dataframe tbody tr th:only-of-type {\n",
       "        vertical-align: middle;\n",
       "    }\n",
       "\n",
       "    .dataframe tbody tr th {\n",
       "        vertical-align: top;\n",
       "    }\n",
       "\n",
       "    .dataframe thead th {\n",
       "        text-align: right;\n",
       "    }\n",
       "</style>\n",
       "<table border=\"1\" class=\"dataframe\">\n",
       "  <thead>\n",
       "    <tr style=\"text-align: right;\">\n",
       "      <th></th>\n",
       "      <th>Sub-product</th>\n",
       "      <th>State</th>\n",
       "      <th>ZIP code</th>\n",
       "    </tr>\n",
       "  </thead>\n",
       "  <tbody>\n",
       "    <tr>\n",
       "      <th>percent of missing Elements</th>\n",
       "      <td>28.925058</td>\n",
       "      <td>0.809063</td>\n",
       "      <td>0.811293</td>\n",
       "    </tr>\n",
       "  </tbody>\n",
       "</table>\n",
       "</div>"
      ],
      "text/plain": [
       "                             Sub-product     State  ZIP code\n",
       "percent of missing Elements    28.925058  0.809063  0.811293"
      ]
     },
     "metadata": {},
     "output_type": "display_data"
    },
    {
     "name": "stdout",
     "output_type": "stream",
     "text": [
      "\n",
      "\n",
      "\n",
      "The Missing Values Columns of Test Data(%) :\n"
     ]
    },
    {
     "data": {
      "text/html": [
       "<div>\n",
       "<style scoped>\n",
       "    .dataframe tbody tr th:only-of-type {\n",
       "        vertical-align: middle;\n",
       "    }\n",
       "\n",
       "    .dataframe tbody tr th {\n",
       "        vertical-align: top;\n",
       "    }\n",
       "\n",
       "    .dataframe thead th {\n",
       "        text-align: right;\n",
       "    }\n",
       "</style>\n",
       "<table border=\"1\" class=\"dataframe\">\n",
       "  <thead>\n",
       "    <tr style=\"text-align: right;\">\n",
       "      <th></th>\n",
       "      <th>Sub-product</th>\n",
       "      <th>State</th>\n",
       "      <th>ZIP code</th>\n",
       "    </tr>\n",
       "  </thead>\n",
       "  <tbody>\n",
       "    <tr>\n",
       "      <th>percent of missing Elements</th>\n",
       "      <td>28.997709</td>\n",
       "      <td>0.782569</td>\n",
       "      <td>0.783406</td>\n",
       "    </tr>\n",
       "  </tbody>\n",
       "</table>\n",
       "</div>"
      ],
      "text/plain": [
       "                             Sub-product     State  ZIP code\n",
       "percent of missing Elements    28.997709  0.782569  0.783406"
      ]
     },
     "metadata": {},
     "output_type": "display_data"
    }
   ],
   "source": [
    "# right off the bat, I see complaint ID is not really important, I am going to remove that\n",
    "# also narrative might hamper our model,Sub-issue,Company public response,Tags and Consumer consent provided? \n",
    "# has extremely high missing value\n",
    "# Going to keep the treshold of selecting features at maximum 35%\n",
    "def feature_removal(dataframe):\n",
    "    dataframe.drop([\"Complaint ID\",\"Consumer complaint narrative\",\"Sub-issue\",\"Company public response\",\n",
    "                   \"Tags\",\"Consumer consent provided?\"],axis = 1, inplace = True) \n",
    "    #everything being done on the train, the test gets it too\n",
    "\n",
    "feature_removal(df_train)\n",
    "feature_removal(df_test)\n",
    "train_missing_df = missing_values(df_train)\n",
    "print(\"The Missing Values Columns of Train Data(%) :\")\n",
    "display(train_missing_df)\n",
    "print(\"\\n\\n\")\n",
    "test_missing_df = missing_values(df_test)\n",
    "print(\"The Missing Values Columns of Test Data(%) :\")\n",
    "display(test_missing_df)\n"
   ]
  },
  {
   "cell_type": "markdown",
   "metadata": {},
   "source": [
    "### Handling NaN"
   ]
  },
  {
   "cell_type": "code",
   "execution_count": 366,
   "metadata": {},
   "outputs": [],
   "source": [
    "def filling(dataframe):\n",
    "    dataframe.fillna(\"Not Available\",axis = 1, inplace = True)\n",
    "filling(df_train)\n",
    "filling(df_test)"
   ]
  },
  {
   "cell_type": "markdown",
   "metadata": {},
   "source": [
    "### Handling Dates"
   ]
  },
  {
   "cell_type": "code",
   "execution_count": 367,
   "metadata": {},
   "outputs": [],
   "source": [
    "def gettingdateformat(dataframe):\n",
    "    dataframe[[\"Date received\",\"Date sent to company\"]] = dataframe[[\"Date received\",\"Date sent to company\"]].apply(pd.to_datetime)\n",
    "gettingdateformat(df_train)\n",
    "gettingdateformat(df_test)"
   ]
  },
  {
   "cell_type": "code",
   "execution_count": 368,
   "metadata": {},
   "outputs": [
    {
     "data": {
      "text/html": [
       "<div>\n",
       "<style scoped>\n",
       "    .dataframe tbody tr th:only-of-type {\n",
       "        vertical-align: middle;\n",
       "    }\n",
       "\n",
       "    .dataframe tbody tr th {\n",
       "        vertical-align: top;\n",
       "    }\n",
       "\n",
       "    .dataframe thead th {\n",
       "        text-align: right;\n",
       "    }\n",
       "</style>\n",
       "<table border=\"1\" class=\"dataframe\">\n",
       "  <thead>\n",
       "    <tr style=\"text-align: right;\">\n",
       "      <th></th>\n",
       "      <th>Date received</th>\n",
       "      <th>Product</th>\n",
       "      <th>Sub-product</th>\n",
       "      <th>Issue</th>\n",
       "      <th>Company</th>\n",
       "      <th>State</th>\n",
       "      <th>ZIP code</th>\n",
       "      <th>Submitted via</th>\n",
       "      <th>Date sent to company</th>\n",
       "      <th>Company response to consumer</th>\n",
       "      <th>Timely response?</th>\n",
       "      <th>Consumer disputed?</th>\n",
       "    </tr>\n",
       "  </thead>\n",
       "  <tbody>\n",
       "    <tr>\n",
       "      <th>0</th>\n",
       "      <td>2015-10-14</td>\n",
       "      <td>Credit reporting</td>\n",
       "      <td>Not Available</td>\n",
       "      <td>Incorrect information on credit report</td>\n",
       "      <td>Equifax</td>\n",
       "      <td>GA</td>\n",
       "      <td>30134</td>\n",
       "      <td>Web</td>\n",
       "      <td>2015-10-14</td>\n",
       "      <td>Closed with explanation</td>\n",
       "      <td>Yes</td>\n",
       "      <td>No</td>\n",
       "    </tr>\n",
       "    <tr>\n",
       "      <th>1</th>\n",
       "      <td>2015-04-26</td>\n",
       "      <td>Bank account or service</td>\n",
       "      <td>Other bank product/service</td>\n",
       "      <td>Deposits and withdrawals</td>\n",
       "      <td>Wells Fargo &amp; Company</td>\n",
       "      <td>GA</td>\n",
       "      <td>319XX</td>\n",
       "      <td>Web</td>\n",
       "      <td>2015-04-26</td>\n",
       "      <td>Closed with explanation</td>\n",
       "      <td>Yes</td>\n",
       "      <td>Yes</td>\n",
       "    </tr>\n",
       "    <tr>\n",
       "      <th>2</th>\n",
       "      <td>2013-12-20</td>\n",
       "      <td>Credit card</td>\n",
       "      <td>Not Available</td>\n",
       "      <td>Other</td>\n",
       "      <td>Citibank</td>\n",
       "      <td>SC</td>\n",
       "      <td>29203</td>\n",
       "      <td>Phone</td>\n",
       "      <td>2014-01-03</td>\n",
       "      <td>Closed with non-monetary relief</td>\n",
       "      <td>Yes</td>\n",
       "      <td>No</td>\n",
       "    </tr>\n",
       "    <tr>\n",
       "      <th>3</th>\n",
       "      <td>2016-03-03</td>\n",
       "      <td>Debt collection</td>\n",
       "      <td>Other (i.e. phone, health club, etc.)</td>\n",
       "      <td>Disclosure verification of debt</td>\n",
       "      <td>FAIR COLLECTIONS &amp; OUTSOURCING, INC.</td>\n",
       "      <td>OH</td>\n",
       "      <td>43082</td>\n",
       "      <td>Referral</td>\n",
       "      <td>2016-03-04</td>\n",
       "      <td>Closed with explanation</td>\n",
       "      <td>Yes</td>\n",
       "      <td>No</td>\n",
       "    </tr>\n",
       "    <tr>\n",
       "      <th>4</th>\n",
       "      <td>2015-01-30</td>\n",
       "      <td>Debt collection</td>\n",
       "      <td>Medical</td>\n",
       "      <td>Disclosure verification of debt</td>\n",
       "      <td>HCFS Health Care Financial Services, Inc.</td>\n",
       "      <td>CA</td>\n",
       "      <td>90036</td>\n",
       "      <td>Web</td>\n",
       "      <td>2015-01-30</td>\n",
       "      <td>Closed with explanation</td>\n",
       "      <td>Yes</td>\n",
       "      <td>Yes</td>\n",
       "    </tr>\n",
       "    <tr>\n",
       "      <th>...</th>\n",
       "      <td>...</td>\n",
       "      <td>...</td>\n",
       "      <td>...</td>\n",
       "      <td>...</td>\n",
       "      <td>...</td>\n",
       "      <td>...</td>\n",
       "      <td>...</td>\n",
       "      <td>...</td>\n",
       "      <td>...</td>\n",
       "      <td>...</td>\n",
       "      <td>...</td>\n",
       "      <td>...</td>\n",
       "    </tr>\n",
       "    <tr>\n",
       "      <th>358805</th>\n",
       "      <td>2014-04-14</td>\n",
       "      <td>Credit reporting</td>\n",
       "      <td>Not Available</td>\n",
       "      <td>Incorrect information on credit report</td>\n",
       "      <td>Experian</td>\n",
       "      <td>OR</td>\n",
       "      <td>97306</td>\n",
       "      <td>Web</td>\n",
       "      <td>2014-04-13</td>\n",
       "      <td>Closed with non-monetary relief</td>\n",
       "      <td>Yes</td>\n",
       "      <td>No</td>\n",
       "    </tr>\n",
       "    <tr>\n",
       "      <th>358806</th>\n",
       "      <td>2013-03-14</td>\n",
       "      <td>Mortgage</td>\n",
       "      <td>Other mortgage</td>\n",
       "      <td>Loan modification,collection,foreclosure</td>\n",
       "      <td>Citibank</td>\n",
       "      <td>OH</td>\n",
       "      <td>43026</td>\n",
       "      <td>Referral</td>\n",
       "      <td>2013-03-18</td>\n",
       "      <td>Closed with non-monetary relief</td>\n",
       "      <td>Yes</td>\n",
       "      <td>No</td>\n",
       "    </tr>\n",
       "    <tr>\n",
       "      <th>358807</th>\n",
       "      <td>2013-02-01</td>\n",
       "      <td>Credit card</td>\n",
       "      <td>Not Available</td>\n",
       "      <td>Payoff process</td>\n",
       "      <td>Capital One</td>\n",
       "      <td>TX</td>\n",
       "      <td>76021</td>\n",
       "      <td>Web</td>\n",
       "      <td>2013-02-01</td>\n",
       "      <td>Closed</td>\n",
       "      <td>Yes</td>\n",
       "      <td>Yes</td>\n",
       "    </tr>\n",
       "    <tr>\n",
       "      <th>358808</th>\n",
       "      <td>2015-06-25</td>\n",
       "      <td>Debt collection</td>\n",
       "      <td>Other (i.e. phone, health club, etc.)</td>\n",
       "      <td>Cont'd attempts collect debt not owed</td>\n",
       "      <td>Encore Capital Group</td>\n",
       "      <td>FL</td>\n",
       "      <td>33256</td>\n",
       "      <td>Phone</td>\n",
       "      <td>2015-06-29</td>\n",
       "      <td>Closed with non-monetary relief</td>\n",
       "      <td>Yes</td>\n",
       "      <td>No</td>\n",
       "    </tr>\n",
       "    <tr>\n",
       "      <th>358809</th>\n",
       "      <td>2015-05-12</td>\n",
       "      <td>Credit reporting</td>\n",
       "      <td>Not Available</td>\n",
       "      <td>Incorrect information on credit report</td>\n",
       "      <td>TransUnion Intermediate Holdings, Inc.</td>\n",
       "      <td>FL</td>\n",
       "      <td>32583</td>\n",
       "      <td>Referral</td>\n",
       "      <td>2015-06-03</td>\n",
       "      <td>Closed with explanation</td>\n",
       "      <td>Yes</td>\n",
       "      <td>No</td>\n",
       "    </tr>\n",
       "  </tbody>\n",
       "</table>\n",
       "<p>358810 rows × 12 columns</p>\n",
       "</div>"
      ],
      "text/plain": [
       "       Date received                  Product  \\\n",
       "0         2015-10-14         Credit reporting   \n",
       "1         2015-04-26  Bank account or service   \n",
       "2         2013-12-20              Credit card   \n",
       "3         2016-03-03          Debt collection   \n",
       "4         2015-01-30          Debt collection   \n",
       "...              ...                      ...   \n",
       "358805    2014-04-14         Credit reporting   \n",
       "358806    2013-03-14                 Mortgage   \n",
       "358807    2013-02-01              Credit card   \n",
       "358808    2015-06-25          Debt collection   \n",
       "358809    2015-05-12         Credit reporting   \n",
       "\n",
       "                                  Sub-product  \\\n",
       "0                               Not Available   \n",
       "1                  Other bank product/service   \n",
       "2                               Not Available   \n",
       "3       Other (i.e. phone, health club, etc.)   \n",
       "4                                     Medical   \n",
       "...                                       ...   \n",
       "358805                          Not Available   \n",
       "358806                         Other mortgage   \n",
       "358807                          Not Available   \n",
       "358808  Other (i.e. phone, health club, etc.)   \n",
       "358809                          Not Available   \n",
       "\n",
       "                                           Issue  \\\n",
       "0         Incorrect information on credit report   \n",
       "1                       Deposits and withdrawals   \n",
       "2                                          Other   \n",
       "3                Disclosure verification of debt   \n",
       "4                Disclosure verification of debt   \n",
       "...                                          ...   \n",
       "358805    Incorrect information on credit report   \n",
       "358806  Loan modification,collection,foreclosure   \n",
       "358807                            Payoff process   \n",
       "358808     Cont'd attempts collect debt not owed   \n",
       "358809    Incorrect information on credit report   \n",
       "\n",
       "                                          Company State ZIP code  \\\n",
       "0                                         Equifax    GA    30134   \n",
       "1                           Wells Fargo & Company    GA    319XX   \n",
       "2                                        Citibank    SC    29203   \n",
       "3            FAIR COLLECTIONS & OUTSOURCING, INC.    OH    43082   \n",
       "4       HCFS Health Care Financial Services, Inc.    CA    90036   \n",
       "...                                           ...   ...      ...   \n",
       "358805                                   Experian    OR    97306   \n",
       "358806                                   Citibank    OH    43026   \n",
       "358807                                Capital One    TX    76021   \n",
       "358808                       Encore Capital Group    FL    33256   \n",
       "358809     TransUnion Intermediate Holdings, Inc.    FL    32583   \n",
       "\n",
       "       Submitted via Date sent to company     Company response to consumer  \\\n",
       "0                Web           2015-10-14          Closed with explanation   \n",
       "1                Web           2015-04-26          Closed with explanation   \n",
       "2              Phone           2014-01-03  Closed with non-monetary relief   \n",
       "3           Referral           2016-03-04          Closed with explanation   \n",
       "4                Web           2015-01-30          Closed with explanation   \n",
       "...              ...                  ...                              ...   \n",
       "358805           Web           2014-04-13  Closed with non-monetary relief   \n",
       "358806      Referral           2013-03-18  Closed with non-monetary relief   \n",
       "358807           Web           2013-02-01                           Closed   \n",
       "358808         Phone           2015-06-29  Closed with non-monetary relief   \n",
       "358809      Referral           2015-06-03          Closed with explanation   \n",
       "\n",
       "       Timely response? Consumer disputed?  \n",
       "0                   Yes                 No  \n",
       "1                   Yes                Yes  \n",
       "2                   Yes                 No  \n",
       "3                   Yes                 No  \n",
       "4                   Yes                Yes  \n",
       "...                 ...                ...  \n",
       "358805              Yes                 No  \n",
       "358806              Yes                 No  \n",
       "358807              Yes                Yes  \n",
       "358808              Yes                 No  \n",
       "358809              Yes                 No  \n",
       "\n",
       "[358810 rows x 12 columns]"
      ]
     },
     "execution_count": 368,
     "metadata": {},
     "output_type": "execute_result"
    }
   ],
   "source": [
    "df_train"
   ]
  },
  {
   "cell_type": "markdown",
   "metadata": {},
   "source": [
    "### Feature Creation"
   ]
  },
  {
   "cell_type": "code",
   "execution_count": 369,
   "metadata": {},
   "outputs": [
    {
     "name": "stderr",
     "output_type": "stream",
     "text": [
      "D:\\anaconda\\lib\\site-packages\\pandas\\core\\indexing.py:670: SettingWithCopyWarning: \n",
      "A value is trying to be set on a copy of a slice from a DataFrame\n",
      "\n",
      "See the caveats in the documentation: https://pandas.pydata.org/pandas-docs/stable/user_guide/indexing.html#returning-a-view-versus-a-copy\n",
      "  self._setitem_with_indexer(indexer, value)\n"
     ]
    }
   ],
   "source": [
    "def datecreation(dataframe):\n",
    "    dataframe['Day received name'] = dataframe['Date received'].dt.day_name()\n",
    "    dataframe['Week received'] = dataframe['Date received'].dt.week\n",
    "    dataframe['Month received'] = dataframe['Date received'].dt.month_name()\n",
    "    dataframe['Day name sent to company'] = dataframe['Date sent to company'].dt.day_name()\n",
    "    dataframe['Week sent to company'] = dataframe['Date sent to company'].dt.week\n",
    "    dataframe['Month sent to company'] = dataframe['Date sent to company'].dt.month_name()\n",
    "    dataframe['Time interval'] = (dataframe['Date sent to company'] - dataframe['Date received']).dt.days\n",
    "    dataframe.drop(['Date received','Date sent to company'],axis = 1,inplace = True)\n",
    "    for counter,i in enumerate(dataframe[\"Time interval\"]):\n",
    "        if i < 0:\n",
    "            dataframe[\"Time interval\"].iloc[counter] = 0\n",
    "datecreation(df_train)\n",
    "datecreation(df_test)"
   ]
  },
  {
   "cell_type": "code",
   "execution_count": 370,
   "metadata": {},
   "outputs": [
    {
     "data": {
      "text/html": [
       "<div>\n",
       "<style scoped>\n",
       "    .dataframe tbody tr th:only-of-type {\n",
       "        vertical-align: middle;\n",
       "    }\n",
       "\n",
       "    .dataframe tbody tr th {\n",
       "        vertical-align: top;\n",
       "    }\n",
       "\n",
       "    .dataframe thead th {\n",
       "        text-align: right;\n",
       "    }\n",
       "</style>\n",
       "<table border=\"1\" class=\"dataframe\">\n",
       "  <thead>\n",
       "    <tr style=\"text-align: right;\">\n",
       "      <th></th>\n",
       "      <th>Product</th>\n",
       "      <th>Sub-product</th>\n",
       "      <th>Issue</th>\n",
       "      <th>Company</th>\n",
       "      <th>State</th>\n",
       "      <th>ZIP code</th>\n",
       "      <th>Submitted via</th>\n",
       "      <th>Company response to consumer</th>\n",
       "      <th>Timely response?</th>\n",
       "      <th>Consumer disputed?</th>\n",
       "      <th>Day received name</th>\n",
       "      <th>Week received</th>\n",
       "      <th>Month received</th>\n",
       "      <th>Day name sent to company</th>\n",
       "      <th>Week sent to company</th>\n",
       "      <th>Month sent to company</th>\n",
       "      <th>Time interval</th>\n",
       "    </tr>\n",
       "  </thead>\n",
       "  <tbody>\n",
       "    <tr>\n",
       "      <th>0</th>\n",
       "      <td>Credit reporting</td>\n",
       "      <td>Not Available</td>\n",
       "      <td>Incorrect information on credit report</td>\n",
       "      <td>Equifax</td>\n",
       "      <td>GA</td>\n",
       "      <td>30134</td>\n",
       "      <td>Web</td>\n",
       "      <td>Closed with explanation</td>\n",
       "      <td>Yes</td>\n",
       "      <td>No</td>\n",
       "      <td>Wednesday</td>\n",
       "      <td>42</td>\n",
       "      <td>October</td>\n",
       "      <td>Wednesday</td>\n",
       "      <td>42</td>\n",
       "      <td>October</td>\n",
       "      <td>0</td>\n",
       "    </tr>\n",
       "  </tbody>\n",
       "</table>\n",
       "</div>"
      ],
      "text/plain": [
       "            Product    Sub-product                                   Issue  \\\n",
       "0  Credit reporting  Not Available  Incorrect information on credit report   \n",
       "\n",
       "   Company State ZIP code Submitted via Company response to consumer  \\\n",
       "0  Equifax    GA    30134           Web      Closed with explanation   \n",
       "\n",
       "  Timely response? Consumer disputed? Day received name  Week received  \\\n",
       "0              Yes                 No         Wednesday             42   \n",
       "\n",
       "  Month received Day name sent to company  Week sent to company  \\\n",
       "0        October                Wednesday                    42   \n",
       "\n",
       "  Month sent to company  Time interval  \n",
       "0               October              0  "
      ]
     },
     "execution_count": 370,
     "metadata": {},
     "output_type": "execute_result"
    }
   ],
   "source": [
    "df_train.head(1)"
   ]
  },
  {
   "cell_type": "markdown",
   "metadata": {},
   "source": [
    "### Feature Labelling"
   ]
  },
  {
   "cell_type": "code",
   "execution_count": 371,
   "metadata": {},
   "outputs": [
    {
     "data": {
      "text/plain": [
       "Product                         object\n",
       "Sub-product                     object\n",
       "Issue                           object\n",
       "Company                         object\n",
       "State                           object\n",
       "ZIP code                        object\n",
       "Submitted via                   object\n",
       "Company response to consumer    object\n",
       "Timely response?                object\n",
       "Consumer disputed?              object\n",
       "Day received name               object\n",
       "Week received                    int64\n",
       "Month received                  object\n",
       "Day name sent to company        object\n",
       "Week sent to company             int64\n",
       "Month sent to company           object\n",
       "Time interval                    int64\n",
       "dtype: object"
      ]
     },
     "execution_count": 371,
     "metadata": {},
     "output_type": "execute_result"
    }
   ],
   "source": [
    "df_train.dtypes"
   ]
  },
  {
   "cell_type": "code",
   "execution_count": 372,
   "metadata": {},
   "outputs": [
    {
     "ename": "TypeError",
     "evalue": "append() takes exactly one argument (0 given)",
     "output_type": "error",
     "traceback": [
      "\u001b[1;31m---------------------------------------------------------------------------\u001b[0m",
      "\u001b[1;31mTypeError\u001b[0m                                 Traceback (most recent call last)",
      "\u001b[1;32m<ipython-input-372-e8c4d868d221>\u001b[0m in \u001b[0;36m<module>\u001b[1;34m\u001b[0m\n\u001b[0;32m      3\u001b[0m     \u001b[1;32mif\u001b[0m \u001b[0mdf_train\u001b[0m\u001b[1;33m[\u001b[0m\u001b[0mi\u001b[0m\u001b[1;33m]\u001b[0m\u001b[1;33m.\u001b[0m\u001b[0mdtypes\u001b[0m \u001b[1;33m==\u001b[0m \u001b[1;34m\"object\"\u001b[0m\u001b[1;33m:\u001b[0m\u001b[1;33m\u001b[0m\u001b[1;33m\u001b[0m\u001b[0m\n\u001b[0;32m      4\u001b[0m         \u001b[0mobject_list\u001b[0m\u001b[1;33m.\u001b[0m\u001b[0mappend\u001b[0m\u001b[1;33m(\u001b[0m\u001b[0mi\u001b[0m\u001b[1;33m)\u001b[0m\u001b[1;33m\u001b[0m\u001b[1;33m\u001b[0m\u001b[0m\n\u001b[1;32m----> 5\u001b[1;33m \u001b[0mobject_list\u001b[0m\u001b[1;33m.\u001b[0m\u001b[0mappend\u001b[0m\u001b[1;33m(\u001b[0m\u001b[1;33m)\u001b[0m\u001b[1;33m\u001b[0m\u001b[1;33m\u001b[0m\u001b[0m\n\u001b[0m\u001b[0;32m      6\u001b[0m \u001b[0mprint\u001b[0m\u001b[1;33m(\u001b[0m\u001b[0mobject_list\u001b[0m\u001b[1;33m)\u001b[0m\u001b[1;33m\u001b[0m\u001b[1;33m\u001b[0m\u001b[0m\n\u001b[0;32m      7\u001b[0m \u001b[1;33m\u001b[0m\u001b[0m\n",
      "\u001b[1;31mTypeError\u001b[0m: append() takes exactly one argument (0 given)"
     ]
    }
   ],
   "source": [
    "object_list = []\n",
    "for i in df_train.columns:\n",
    "    if df_train[i].dtypes == \"object\":\n",
    "        object_list.append(i)\n",
    "object_list.append()\n",
    "print(object_list)\n",
    "        "
   ]
  },
  {
   "cell_type": "code",
   "execution_count": 373,
   "metadata": {},
   "outputs": [],
   "source": [
    "def encod(dataframe):\n",
    "    for i in object_list:\n",
    "        try:\n",
    "            dataframe[i] = lb.fit_transform(dataframe[i])\n",
    "        except:\n",
    "            pass\n",
    "encod(df_train)\n",
    "encod(df_test)    "
   ]
  },
  {
   "cell_type": "code",
   "execution_count": 379,
   "metadata": {},
   "outputs": [
    {
     "data": {
      "text/html": [
       "<div>\n",
       "<style scoped>\n",
       "    .dataframe tbody tr th:only-of-type {\n",
       "        vertical-align: middle;\n",
       "    }\n",
       "\n",
       "    .dataframe tbody tr th {\n",
       "        vertical-align: top;\n",
       "    }\n",
       "\n",
       "    .dataframe thead th {\n",
       "        text-align: right;\n",
       "    }\n",
       "</style>\n",
       "<table border=\"1\" class=\"dataframe\">\n",
       "  <thead>\n",
       "    <tr style=\"text-align: right;\">\n",
       "      <th></th>\n",
       "      <th>Product</th>\n",
       "      <th>Sub-product</th>\n",
       "      <th>Issue</th>\n",
       "      <th>Company</th>\n",
       "      <th>State</th>\n",
       "      <th>ZIP code</th>\n",
       "      <th>Submitted via</th>\n",
       "      <th>Company response to consumer</th>\n",
       "      <th>Timely response?</th>\n",
       "      <th>Consumer disputed?</th>\n",
       "      <th>Day received name</th>\n",
       "      <th>Week received</th>\n",
       "      <th>Month received</th>\n",
       "      <th>Day name sent to company</th>\n",
       "      <th>Week sent to company</th>\n",
       "      <th>Month sent to company</th>\n",
       "      <th>Time interval</th>\n",
       "    </tr>\n",
       "  </thead>\n",
       "  <tbody>\n",
       "    <tr>\n",
       "      <th>0</th>\n",
       "      <td>3</td>\n",
       "      <td>29</td>\n",
       "      <td>52</td>\n",
       "      <td>998</td>\n",
       "      <td>15</td>\n",
       "      <td>7869</td>\n",
       "      <td>5</td>\n",
       "      <td>1</td>\n",
       "      <td>1</td>\n",
       "      <td>0</td>\n",
       "      <td>6</td>\n",
       "      <td>42</td>\n",
       "      <td>10</td>\n",
       "      <td>6</td>\n",
       "      <td>42</td>\n",
       "      <td>10</td>\n",
       "      <td>0</td>\n",
       "    </tr>\n",
       "  </tbody>\n",
       "</table>\n",
       "</div>"
      ],
      "text/plain": [
       "   Product  Sub-product  Issue  Company  State  ZIP code  Submitted via  \\\n",
       "0        3           29     52      998     15      7869              5   \n",
       "\n",
       "   Company response to consumer  Timely response?  Consumer disputed?  \\\n",
       "0                             1                 1                   0   \n",
       "\n",
       "   Day received name  Week received  Month received  Day name sent to company  \\\n",
       "0                  6             42              10                         6   \n",
       "\n",
       "   Week sent to company  Month sent to company  Time interval  \n",
       "0                    42                     10              0  "
      ]
     },
     "execution_count": 379,
     "metadata": {},
     "output_type": "execute_result"
    }
   ],
   "source": [
    "final_data = df_train.copy()\n",
    "final_data.head(1)\n"
   ]
  },
  {
   "cell_type": "markdown",
   "metadata": {},
   "source": [
    "##### This ends feature handling, going forward, the test data (df_test) will not be touched"
   ]
  },
  {
   "cell_type": "markdown",
   "metadata": {},
   "source": [
    "## Model Selection"
   ]
  },
  {
   "cell_type": "markdown",
   "metadata": {},
   "source": [
    "### Feature Selection"
   ]
  },
  {
   "cell_type": "code",
   "execution_count": 358,
   "metadata": {},
   "outputs": [],
   "source": [
    "from sklearn.ensemble import RandomForestClassifier\n",
    "from sklearn.model_selection import train_test_split,KFold, GridSearchCV\n",
    "from sklearn.metrics import accuracy_score, r2_score, roc_auc_score, f1_score"
   ]
  },
  {
   "cell_type": "code",
   "execution_count": 382,
   "metadata": {},
   "outputs": [],
   "source": [
    "rfc = RandomForestClassifier(random_state = 101)\n",
    "X = final_data.drop([\"Consumer disputed?\"],axis = 1)\n",
    "y = final_data[\"Consumer disputed?\"]"
   ]
  },
  {
   "cell_type": "code",
   "execution_count": 383,
   "metadata": {},
   "outputs": [],
   "source": [
    "X_train,X_test,y_train,y_test = train_test_split(X,y,test_size = 0.3,random_state= 101)"
   ]
  },
  {
   "cell_type": "code",
   "execution_count": 384,
   "metadata": {},
   "outputs": [],
   "source": [
    "model = rfc.fit(X_train,y_train)"
   ]
  },
  {
   "cell_type": "code",
   "execution_count": 425,
   "metadata": {},
   "outputs": [],
   "source": [
    "predictor = X.columns.tolist()\n",
    "feature_selection = pd.Series(model.feature_importances_,index= (predictor)).sort_values(ascending=False)"
   ]
  },
  {
   "cell_type": "code",
   "execution_count": 426,
   "metadata": {},
   "outputs": [
    {
     "data": {
      "text/plain": [
       "ZIP code                        0.205847\n",
       "Company                         0.119533\n",
       "State                           0.110257\n",
       "Week sent to company            0.078342\n",
       "Week received                   0.078323\n",
       "Issue                           0.067558\n",
       "Day received name               0.060976\n",
       "Day name sent to company        0.059629\n",
       "Time interval                   0.055041\n",
       "Sub-product                     0.046881\n",
       "Month sent to company           0.025997\n",
       "Month received                  0.025759\n",
       "Company response to consumer    0.022733\n",
       "Product                         0.019599\n",
       "Submitted via                   0.019483\n",
       "Timely response?                0.004042\n",
       "dtype: float64"
      ]
     },
     "execution_count": 426,
     "metadata": {},
     "output_type": "execute_result"
    }
   ],
   "source": [
    "feature_selection"
   ]
  },
  {
   "cell_type": "code",
   "execution_count": 428,
   "metadata": {},
   "outputs": [],
   "source": [
    "#dropping Timely response\n",
    "final_data.drop(\"Timely response?\",axis =1, inplace = True)"
   ]
  },
  {
   "cell_type": "code",
   "execution_count": null,
   "metadata": {},
   "outputs": [],
   "source": []
  }
 ],
 "metadata": {
  "kernelspec": {
   "display_name": "Python 3",
   "language": "python",
   "name": "python3"
  },
  "language_info": {
   "codemirror_mode": {
    "name": "ipython",
    "version": 3
   },
   "file_extension": ".py",
   "mimetype": "text/x-python",
   "name": "python",
   "nbconvert_exporter": "python",
   "pygments_lexer": "ipython3",
   "version": "3.7.6"
  },
  "toc": {
   "base_numbering": 1,
   "nav_menu": {},
   "number_sections": true,
   "sideBar": true,
   "skip_h1_title": false,
   "title_cell": "Table of Contents",
   "title_sidebar": "Contents",
   "toc_cell": false,
   "toc_position": {},
   "toc_section_display": true,
   "toc_window_display": false
  }
 },
 "nbformat": 4,
 "nbformat_minor": 4
}
